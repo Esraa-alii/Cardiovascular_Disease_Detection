{
 "cells": [
  {
   "cell_type": "code",
   "execution_count": 1,
   "id": "17861bbd",
   "metadata": {},
   "outputs": [
    {
     "name": "stderr",
     "output_type": "stream",
     "text": [
      "c:\\Users\\Lenovo\\AppData\\Local\\Programs\\Python\\Python310\\lib\\site-packages\\tqdm\\auto.py:22: TqdmWarning: IProgress not found. Please update jupyter and ipywidgets. See https://ipywidgets.readthedocs.io/en/stable/user_install.html\n",
      "  from .autonotebook import tqdm as notebook_tqdm\n"
     ]
    }
   ],
   "source": [
    "import math\n",
    "import numpy as np\n",
    "import pandas as pd\n",
    "from sklearn.ensemble import RandomForestClassifier\n",
    "from sklearn.model_selection import train_test_split\n",
    "from sklearn import metrics\n",
    "import seaborn as sns\n",
    "import matplotlib.pyplot as plt\n",
    "from scipy import stats\n",
    "import scipy.stats as st\n",
    "import pandas_profiling as pf\n",
    "import pickle"
   ]
  },
  {
   "cell_type": "markdown",
   "id": "429d72e2",
   "metadata": {},
   "source": [
    "# Importing data"
   ]
  },
  {
   "cell_type": "code",
   "execution_count": 2,
   "id": "e2205609",
   "metadata": {},
   "outputs": [],
   "source": [
    "df = pd.read_csv(\"Data/cardio_train.csv\",sep=';')"
   ]
  },
  {
   "cell_type": "markdown",
   "id": "f0c95c0d",
   "metadata": {},
   "source": [
    "## Creating profile of non cleaned data"
   ]
  },
  {
   "cell_type": "code",
   "execution_count": 80,
   "id": "af11cbd9",
   "metadata": {},
   "outputs": [
    {
     "name": "stderr",
     "output_type": "stream",
     "text": [
      "Summarize dataset: 100%|██████████| 62/62 [00:09<00:00,  6.66it/s, Completed]                     \n",
      "Generate report structure: 100%|██████████| 1/1 [00:04<00:00,  4.12s/it]\n",
      "Render HTML: 100%|██████████| 1/1 [00:01<00:00,  1.53s/it]\n",
      "Export report to file: 100%|██████████| 1/1 [00:00<00:00, 111.38it/s]\n"
     ]
    }
   ],
   "source": [
    "profile_not_clean = pf.ProfileReport(df)\n",
    "profile_not_clean\n",
    "profile_not_clean.to_file(\"../templates/AnalysisNotClean.html\")"
   ]
  },
  {
   "cell_type": "markdown",
   "id": "8e64df40",
   "metadata": {},
   "source": [
    "# Data exploration"
   ]
  },
  {
   "cell_type": "code",
   "execution_count": 3,
   "id": "e6a1bd96",
   "metadata": {},
   "outputs": [
    {
     "name": "stdout",
     "output_type": "stream",
     "text": [
      "<class 'pandas.core.frame.DataFrame'>\n",
      "RangeIndex: 69301 entries, 0 to 69300\n",
      "Data columns (total 13 columns):\n",
      " #   Column       Non-Null Count  Dtype  \n",
      "---  ------       --------------  -----  \n",
      " 0   id           69301 non-null  int64  \n",
      " 1   age          69301 non-null  int64  \n",
      " 2   gender       69301 non-null  int64  \n",
      " 3   height       69301 non-null  int64  \n",
      " 4   weight       69301 non-null  float64\n",
      " 5   ap_hi        69301 non-null  int64  \n",
      " 6   ap_lo        69301 non-null  int64  \n",
      " 7   cholesterol  69301 non-null  int64  \n",
      " 8   gluc         69301 non-null  int64  \n",
      " 9   smoke        69301 non-null  int64  \n",
      " 10  alco         69301 non-null  int64  \n",
      " 11  active       69301 non-null  int64  \n",
      " 12  cardio       69301 non-null  int64  \n",
      "dtypes: float64(1), int64(12)\n",
      "memory usage: 6.9 MB\n"
     ]
    }
   ],
   "source": [
    "df.info()"
   ]
  },
  {
   "cell_type": "code",
   "execution_count": 4,
   "id": "dc63ddb7",
   "metadata": {},
   "outputs": [
    {
     "data": {
      "text/html": [
       "<div>\n",
       "<style scoped>\n",
       "    .dataframe tbody tr th:only-of-type {\n",
       "        vertical-align: middle;\n",
       "    }\n",
       "\n",
       "    .dataframe tbody tr th {\n",
       "        vertical-align: top;\n",
       "    }\n",
       "\n",
       "    .dataframe thead th {\n",
       "        text-align: right;\n",
       "    }\n",
       "</style>\n",
       "<table border=\"1\" class=\"dataframe\">\n",
       "  <thead>\n",
       "    <tr style=\"text-align: right;\">\n",
       "      <th></th>\n",
       "      <th>id</th>\n",
       "      <th>age</th>\n",
       "      <th>gender</th>\n",
       "      <th>height</th>\n",
       "      <th>weight</th>\n",
       "      <th>ap_hi</th>\n",
       "      <th>ap_lo</th>\n",
       "      <th>cholesterol</th>\n",
       "      <th>gluc</th>\n",
       "      <th>smoke</th>\n",
       "      <th>alco</th>\n",
       "      <th>active</th>\n",
       "      <th>cardio</th>\n",
       "    </tr>\n",
       "  </thead>\n",
       "  <tbody>\n",
       "    <tr>\n",
       "      <th>count</th>\n",
       "      <td>69301.000000</td>\n",
       "      <td>69301.000000</td>\n",
       "      <td>69301.000000</td>\n",
       "      <td>69301.000000</td>\n",
       "      <td>69301.000000</td>\n",
       "      <td>69301.000000</td>\n",
       "      <td>69301.000000</td>\n",
       "      <td>69301.000000</td>\n",
       "      <td>69301.000000</td>\n",
       "      <td>69301.000000</td>\n",
       "      <td>69301.000000</td>\n",
       "      <td>69301.000000</td>\n",
       "      <td>69301.000000</td>\n",
       "    </tr>\n",
       "    <tr>\n",
       "      <th>mean</th>\n",
       "      <td>50471.480397</td>\n",
       "      <td>19468.786280</td>\n",
       "      <td>1.349519</td>\n",
       "      <td>164.362217</td>\n",
       "      <td>74.203027</td>\n",
       "      <td>128.829584</td>\n",
       "      <td>96.650092</td>\n",
       "      <td>1.366806</td>\n",
       "      <td>1.226447</td>\n",
       "      <td>0.088051</td>\n",
       "      <td>0.053881</td>\n",
       "      <td>0.803986</td>\n",
       "      <td>0.499589</td>\n",
       "    </tr>\n",
       "    <tr>\n",
       "      <th>std</th>\n",
       "      <td>28563.100347</td>\n",
       "      <td>2467.261818</td>\n",
       "      <td>0.476821</td>\n",
       "      <td>8.205337</td>\n",
       "      <td>14.383469</td>\n",
       "      <td>154.775805</td>\n",
       "      <td>189.096240</td>\n",
       "      <td>0.680270</td>\n",
       "      <td>0.572246</td>\n",
       "      <td>0.283371</td>\n",
       "      <td>0.225784</td>\n",
       "      <td>0.396982</td>\n",
       "      <td>0.500003</td>\n",
       "    </tr>\n",
       "    <tr>\n",
       "      <th>min</th>\n",
       "      <td>988.000000</td>\n",
       "      <td>10798.000000</td>\n",
       "      <td>1.000000</td>\n",
       "      <td>55.000000</td>\n",
       "      <td>10.000000</td>\n",
       "      <td>-150.000000</td>\n",
       "      <td>-70.000000</td>\n",
       "      <td>1.000000</td>\n",
       "      <td>1.000000</td>\n",
       "      <td>0.000000</td>\n",
       "      <td>0.000000</td>\n",
       "      <td>0.000000</td>\n",
       "      <td>0.000000</td>\n",
       "    </tr>\n",
       "    <tr>\n",
       "      <th>25%</th>\n",
       "      <td>25745.000000</td>\n",
       "      <td>17664.000000</td>\n",
       "      <td>1.000000</td>\n",
       "      <td>159.000000</td>\n",
       "      <td>65.000000</td>\n",
       "      <td>120.000000</td>\n",
       "      <td>80.000000</td>\n",
       "      <td>1.000000</td>\n",
       "      <td>1.000000</td>\n",
       "      <td>0.000000</td>\n",
       "      <td>0.000000</td>\n",
       "      <td>1.000000</td>\n",
       "      <td>0.000000</td>\n",
       "    </tr>\n",
       "    <tr>\n",
       "      <th>50%</th>\n",
       "      <td>50494.000000</td>\n",
       "      <td>19704.000000</td>\n",
       "      <td>1.000000</td>\n",
       "      <td>165.000000</td>\n",
       "      <td>72.000000</td>\n",
       "      <td>120.000000</td>\n",
       "      <td>80.000000</td>\n",
       "      <td>1.000000</td>\n",
       "      <td>1.000000</td>\n",
       "      <td>0.000000</td>\n",
       "      <td>0.000000</td>\n",
       "      <td>1.000000</td>\n",
       "      <td>0.000000</td>\n",
       "    </tr>\n",
       "    <tr>\n",
       "      <th>75%</th>\n",
       "      <td>75150.000000</td>\n",
       "      <td>21326.000000</td>\n",
       "      <td>2.000000</td>\n",
       "      <td>170.000000</td>\n",
       "      <td>82.000000</td>\n",
       "      <td>140.000000</td>\n",
       "      <td>90.000000</td>\n",
       "      <td>2.000000</td>\n",
       "      <td>1.000000</td>\n",
       "      <td>0.000000</td>\n",
       "      <td>0.000000</td>\n",
       "      <td>1.000000</td>\n",
       "      <td>1.000000</td>\n",
       "    </tr>\n",
       "    <tr>\n",
       "      <th>max</th>\n",
       "      <td>99999.000000</td>\n",
       "      <td>23713.000000</td>\n",
       "      <td>2.000000</td>\n",
       "      <td>250.000000</td>\n",
       "      <td>200.000000</td>\n",
       "      <td>16020.000000</td>\n",
       "      <td>11000.000000</td>\n",
       "      <td>3.000000</td>\n",
       "      <td>3.000000</td>\n",
       "      <td>1.000000</td>\n",
       "      <td>1.000000</td>\n",
       "      <td>1.000000</td>\n",
       "      <td>1.000000</td>\n",
       "    </tr>\n",
       "  </tbody>\n",
       "</table>\n",
       "</div>"
      ],
      "text/plain": [
       "                 id           age        gender        height        weight  \\\n",
       "count  69301.000000  69301.000000  69301.000000  69301.000000  69301.000000   \n",
       "mean   50471.480397  19468.786280      1.349519    164.362217     74.203027   \n",
       "std    28563.100347   2467.261818      0.476821      8.205337     14.383469   \n",
       "min      988.000000  10798.000000      1.000000     55.000000     10.000000   \n",
       "25%    25745.000000  17664.000000      1.000000    159.000000     65.000000   \n",
       "50%    50494.000000  19704.000000      1.000000    165.000000     72.000000   \n",
       "75%    75150.000000  21326.000000      2.000000    170.000000     82.000000   \n",
       "max    99999.000000  23713.000000      2.000000    250.000000    200.000000   \n",
       "\n",
       "              ap_hi         ap_lo   cholesterol          gluc         smoke  \\\n",
       "count  69301.000000  69301.000000  69301.000000  69301.000000  69301.000000   \n",
       "mean     128.829584     96.650092      1.366806      1.226447      0.088051   \n",
       "std      154.775805    189.096240      0.680270      0.572246      0.283371   \n",
       "min     -150.000000    -70.000000      1.000000      1.000000      0.000000   \n",
       "25%      120.000000     80.000000      1.000000      1.000000      0.000000   \n",
       "50%      120.000000     80.000000      1.000000      1.000000      0.000000   \n",
       "75%      140.000000     90.000000      2.000000      1.000000      0.000000   \n",
       "max    16020.000000  11000.000000      3.000000      3.000000      1.000000   \n",
       "\n",
       "               alco        active        cardio  \n",
       "count  69301.000000  69301.000000  69301.000000  \n",
       "mean       0.053881      0.803986      0.499589  \n",
       "std        0.225784      0.396982      0.500003  \n",
       "min        0.000000      0.000000      0.000000  \n",
       "25%        0.000000      1.000000      0.000000  \n",
       "50%        0.000000      1.000000      0.000000  \n",
       "75%        0.000000      1.000000      1.000000  \n",
       "max        1.000000      1.000000      1.000000  "
      ]
     },
     "execution_count": 4,
     "metadata": {},
     "output_type": "execute_result"
    }
   ],
   "source": [
    "df.describe()"
   ]
  },
  {
   "cell_type": "code",
   "execution_count": 5,
   "id": "9f456409",
   "metadata": {
    "scrolled": true
   },
   "outputs": [
    {
     "data": {
      "text/plain": [
       "0    34679\n",
       "1    34622\n",
       "Name: cardio, dtype: int64"
      ]
     },
     "execution_count": 5,
     "metadata": {},
     "output_type": "execute_result"
    }
   ],
   "source": [
    "cardio_count=df[\"cardio\"].value_counts()\n",
    "cardio_count"
   ]
  },
  {
   "cell_type": "code",
   "execution_count": 6,
   "id": "1e3562c4",
   "metadata": {},
   "outputs": [
    {
     "data": {
      "text/plain": [
       "0    50.041125\n",
       "1    49.958875\n",
       "Name: cardio, dtype: float64"
      ]
     },
     "execution_count": 6,
     "metadata": {},
     "output_type": "execute_result"
    }
   ],
   "source": [
    "cario_percent = ( df[\"cardio\"].value_counts() / df['cardio'].count()) * 100\n",
    "cario_percent"
   ]
  },
  {
   "cell_type": "code",
   "execution_count": 7,
   "id": "8562d5c2",
   "metadata": {},
   "outputs": [
    {
     "data": {
      "image/png": "[encoded data removed]",
      "text/plain": [
       "<Figure size 1440x936 with 1 Axes>"
      ]
     },
     "metadata": {
      "needs_background": "light"
     },
     "output_type": "display_data"
    }
   ],
   "source": [
    "plt.figure(figsize=(20,13))\n",
    "colors_list = ['Green','Red']\n",
    "graph = plt.bar([\"Without CardioVascular\",\"With CardioVascular\"],cardio_count, color = colors_list)\n",
    "plt.title('Percentage of CardioVascular Disease in data')\n",
    "\n",
    "i = 0\n",
    "for p in graph:\n",
    "    width = p.get_width()\n",
    "    height = p.get_height()\n",
    "    x, y = p.get_xy()\n",
    "    plt.text(x+width/2,y+height*1.01,str(cario_percent[i])+'%',ha='center',weight='bold')\n",
    "    i+=1\n",
    "plt.show()"
   ]
  },
  {
   "cell_type": "code",
   "execution_count": 8,
   "id": "e3e8ff77",
   "metadata": {},
   "outputs": [
    {
     "name": "stderr",
     "output_type": "stream",
     "text": [
      "C:\\Users\\Lenovo\\AppData\\Local\\Temp\\ipykernel_13132\\2936690794.py:3: UserWarning: To output multiple subplots, the figure containing the passed axes is being cleared\n",
      "  df.hist(ax=ax);\n"
     ]
    },
    {
     "data": {
      "image/png": "[encoded data removed]",
      "text/plain": [
       "<Figure size 720x720 with 16 Axes>"
      ]
     },
     "metadata": {
      "needs_background": "light"
     },
     "output_type": "display_data"
    }
   ],
   "source": [
    "fig= plt.figure(figsize=(10,10))\n",
    "ax= fig.gca()\n",
    "df.hist(ax=ax);"
   ]
  },
  {
   "cell_type": "code",
   "execution_count": 9,
   "id": "41bbb290",
   "metadata": {
    "scrolled": false
   },
   "outputs": [
    {
     "data": {
      "image/png": "[encoded data removed]",
      "text/plain": [
       "<Figure size 432x288 with 1 Axes>"
      ]
     },
     "metadata": {
      "needs_background": "light"
     },
     "output_type": "display_data"
    },
    {
     "data": {
      "image/png": "[encoded data removed]",
      "text/plain": [
       "<Figure size 432x288 with 1 Axes>"
      ]
     },
     "metadata": {
      "needs_background": "light"
     },
     "output_type": "display_data"
    },
    {
     "data": {
      "image/png": "[encoded data removed]",
      "text/plain": [
       "<Figure size 432x288 with 1 Axes>"
      ]
     },
     "metadata": {
      "needs_background": "light"
     },
     "output_type": "display_data"
    },
    {
     "data": {
      "image/png": "[encoded data removed]",
      "text/plain": [
       "<Figure size 432x288 with 1 Axes>"
      ]
     },
     "metadata": {
      "needs_background": "light"
     },
     "output_type": "display_data"
    },
    {
     "data": {
      "image/png": "[encoded data removed]",
      "text/plain": [
       "<Figure size 432x288 with 1 Axes>"
      ]
     },
     "metadata": {
      "needs_background": "light"
     },
     "output_type": "display_data"
    },
    {
     "data": {
      "image/png": "[encoded data removed]",
      "text/plain": [
       "<Figure size 432x288 with 1 Axes>"
      ]
     },
     "metadata": {
      "needs_background": "light"
     },
     "output_type": "display_data"
    },
    {
     "data": {
      "image/png": "[encoded data removed]",
      "text/plain": [
       "<Figure size 432x288 with 1 Axes>"
      ]
     },
     "metadata": {
      "needs_background": "light"
     },
     "output_type": "display_data"
    },
    {
     "data": {
      "image/png": "[encoded data removed]",
      "text/plain": [
       "<Figure size 432x288 with 1 Axes>"
      ]
     },
     "metadata": {
      "needs_background": "light"
     },
     "output_type": "display_data"
    },
    {
     "data": {
      "image/png": "[encoded data removed]",
      "text/plain": [
       "<Figure size 432x288 with 1 Axes>"
      ]
     },
     "metadata": {
      "needs_background": "light"
     },
     "output_type": "display_data"
    },
    {
     "data": {
      "image/png": "[encoded data removed]",
      "text/plain": [
       "<Figure size 432x288 with 1 Axes>"
      ]
     },
     "metadata": {
      "needs_background": "light"
     },
     "output_type": "display_data"
    },
    {
     "data": {
      "image/png": "[encoded data removed]",
      "text/plain": [
       "<Figure size 432x288 with 1 Axes>"
      ]
     },
     "metadata": {
      "needs_background": "light"
     },
     "output_type": "display_data"
    },
    {
     "data": {
      "image/png": "[encoded data removed]",
      "text/plain": [
       "<Figure size 432x288 with 1 Axes>"
      ]
     },
     "metadata": {
      "needs_background": "light"
     },
     "output_type": "display_data"
    },
    {
     "data": {
      "image/png": "[encoded data removed]",
      "text/plain": [
       "<Figure size 432x288 with 1 Axes>"
      ]
     },
     "metadata": {
      "needs_background": "light"
     },
     "output_type": "display_data"
    }
   ],
   "source": [
    "for column in df:\n",
    "    plt.figure()\n",
    "    \n",
    "    df.boxplot([column])"
   ]
  },
  {
   "cell_type": "markdown",
   "id": "42bded78",
   "metadata": {},
   "source": [
    "# Data Cleaning"
   ]
  },
  {
   "cell_type": "code",
   "execution_count": 10,
   "id": "26299016",
   "metadata": {},
   "outputs": [],
   "source": [
    "# Droping id (Not needed for the model)\n",
    "df=df.drop(labels=\"id\", axis=1)"
   ]
  },
  {
   "cell_type": "code",
   "execution_count": 11,
   "id": "56b314b9",
   "metadata": {},
   "outputs": [
    {
     "data": {
      "text/plain": [
       "24"
      ]
     },
     "execution_count": 11,
     "metadata": {},
     "output_type": "execute_result"
    }
   ],
   "source": [
    "# Checking for duplicates\n",
    "sum(df.duplicated())"
   ]
  },
  {
   "cell_type": "code",
   "execution_count": 12,
   "id": "b54fee75",
   "metadata": {},
   "outputs": [
    {
     "data": {
      "text/plain": [
       "0"
      ]
     },
     "execution_count": 12,
     "metadata": {},
     "output_type": "execute_result"
    }
   ],
   "source": [
    "# Droping Duplicates\n",
    "df=df.drop_duplicates()\n",
    "sum(df.duplicated())"
   ]
  },
  {
   "cell_type": "markdown",
   "id": "a3227546",
   "metadata": {},
   "source": [
    "## ap_hi Cleaning"
   ]
  },
  {
   "cell_type": "code",
   "execution_count": 13,
   "id": "f14d889f",
   "metadata": {},
   "outputs": [],
   "source": [
    "#Highest recorded blood pressure 370/360\n",
    "#Lowestrded blood pressure 90/60"
   ]
  },
  {
   "cell_type": "code",
   "execution_count": 14,
   "id": "cb5cb4a8",
   "metadata": {},
   "outputs": [
    {
     "data": {
      "text/plain": [
       "array([  130,   110,   120,   100,   140,   160,   170,   150,   147,\n",
       "         115,    90,   180,    14,   125,   135,   190,   137,   153,\n",
       "          11,   145,   148,   126,   105,   220,   119,   141,   165,\n",
       "         164,    12,   124,   172,   902,   162,   906,   117,   134,\n",
       "         166,   210,   176,   133,   116,   169,    10,   121,    16,\n",
       "          80,   112,   159,   122,   113,   118,   200,   155,   142,\n",
       "         131,   157,   136,   146,   138,  -100,   909,    70,   109,\n",
       "          85,   106,   129,    93,     7,    95,   179,   161,   156,\n",
       "         168,   132,   104,   103,   178,   175,   123,   128,   151,\n",
       "          15,   139, 11500,   127,    17,   108,   144,   158,   102,\n",
       "           1,  1420,    13,   143,   701,   107,   184,   149,   167,\n",
       "         114,   101,    60,  1500,   181,   171,   202,  -115,   111,\n",
       "         907,    20,   188,   185,   163,   173,   154,   177,  -140,\n",
       "         174,  -120, 14020,  1400,   240,   191,   197,  1620,   152,\n",
       "          96,   199,  -150,  1130,   193,    99,   196,   309,   401,\n",
       "       16020,  1202,   806,  1300,   230,   207,   215,    97,  1409,\n",
       "       11020,    24,   960, 13010,  1110,   195,  1205,   187,  2000],\n",
       "      dtype=int64)"
      ]
     },
     "execution_count": 14,
     "metadata": {},
     "output_type": "execute_result"
    }
   ],
   "source": [
    "df[\"ap_hi\"].unique()"
   ]
  },
  {
   "cell_type": "code",
   "execution_count": 15,
   "id": "1d53bd2b",
   "metadata": {},
   "outputs": [
    {
     "data": {
      "text/plain": [
       "array([  130,   110,   120,   100,   140,   160,   170,   150,   147,\n",
       "         115,    90,   180,    14,   125,   135,   190,   137,   153,\n",
       "          11,   145,   148,   126,   105,   220,   119,   141,   165,\n",
       "         164,    12,   124,   172,   902,   162,   906,   117,   134,\n",
       "         166,   210,   176,   133,   116,   169,    10,   121,    16,\n",
       "          80,   112,   159,   122,   113,   118,   200,   155,   142,\n",
       "         131,   157,   136,   146,   138,   909,    70,   109,    85,\n",
       "         106,   129,    93,     7,    95,   179,   161,   156,   168,\n",
       "         132,   104,   103,   178,   175,   123,   128,   151,    15,\n",
       "         139, 11500,   127,    17,   108,   144,   158,   102,     1,\n",
       "        1420,    13,   143,   701,   107,   184,   149,   167,   114,\n",
       "         101,    60,  1500,   181,   171,   202,   111,   907,    20,\n",
       "         188,   185,   163,   173,   154,   177,   174, 14020,  1400,\n",
       "         240,   191,   197,  1620,   152,    96,   199,  1130,   193,\n",
       "          99,   196,   309,   401, 16020,  1202,   806,  1300,   230,\n",
       "         207,   215,    97,  1409, 11020,    24,   960, 13010,  1110,\n",
       "         195,  1205,   187,  2000], dtype=int64)"
      ]
     },
     "execution_count": 15,
     "metadata": {},
     "output_type": "execute_result"
    }
   ],
   "source": [
    "df[\"ap_hi\"]=df[\"ap_hi\"].abs()\n",
    "df[\"ap_hi\"].unique()"
   ]
  },
  {
   "cell_type": "code",
   "execution_count": 16,
   "id": "83d983d1",
   "metadata": {},
   "outputs": [
    {
     "data": {
      "text/plain": [
       "39"
      ]
     },
     "execution_count": 16,
     "metadata": {},
     "output_type": "execute_result"
    }
   ],
   "source": [
    "sum(df[\"ap_hi\"]>370)"
   ]
  },
  {
   "cell_type": "code",
   "execution_count": 17,
   "id": "4e93ee29",
   "metadata": {},
   "outputs": [
    {
     "data": {
      "text/plain": [
       "310"
      ]
     },
     "execution_count": 17,
     "metadata": {},
     "output_type": "execute_result"
    }
   ],
   "source": [
    "sum(df[\"ap_hi\"]<90)"
   ]
  },
  {
   "cell_type": "code",
   "execution_count": 18,
   "id": "88824ce7",
   "metadata": {},
   "outputs": [
    {
     "data": {
      "text/plain": [
       "count    69277.000000\n",
       "mean       128.857182\n",
       "std        154.782206\n",
       "min          1.000000\n",
       "25%        120.000000\n",
       "50%        120.000000\n",
       "75%        140.000000\n",
       "max      16020.000000\n",
       "Name: ap_hi, dtype: float64"
      ]
     },
     "execution_count": 18,
     "metadata": {},
     "output_type": "execute_result"
    }
   ],
   "source": [
    "df[\"ap_hi\"].describe()"
   ]
  },
  {
   "cell_type": "code",
   "execution_count": 19,
   "id": "b18ee83b",
   "metadata": {},
   "outputs": [],
   "source": [
    "def pressure_range(x):\n",
    "    \"\"\" Function to adjust pressure numbers as 3 or 2 digits only\"\"\"\n",
    "    if math.log10(x)>=4:\n",
    "        z= x//100\n",
    "    elif math.log10(x)>=3:\n",
    "        z= x//10\n",
    "    elif math.log10(x)<2 and x<50:\n",
    "        z= x*10\n",
    "    else :z= x   \n",
    "    return z"
   ]
  },
  {
   "cell_type": "code",
   "execution_count": 20,
   "id": "739d4f19",
   "metadata": {},
   "outputs": [
    {
     "data": {
      "text/plain": [
       "array([130, 110, 120, 100, 140, 160, 170, 150, 147, 115,  90, 180, 125,\n",
       "       135, 190, 137, 153, 145, 148, 126, 105, 220, 119, 141, 165, 164,\n",
       "       124, 172, 902, 162, 906, 117, 134, 166, 210, 176, 133, 116, 169,\n",
       "       121,  80, 112, 159, 122, 113, 118, 200, 155, 142, 131, 157, 136,\n",
       "       146, 138, 909,  70, 109,  85, 106, 129,  93,  95, 179, 161, 156,\n",
       "       168, 132, 104, 103, 178, 175, 123, 128, 151, 139, 127, 108, 144,\n",
       "       158, 102,  10, 143, 701, 107, 184, 149, 167, 114, 101,  60, 181,\n",
       "       171, 202, 111, 907, 188, 185, 163, 173, 154, 177, 174, 240, 191,\n",
       "       197, 152,  96, 199, 193,  99, 196, 309, 401, 806, 230, 207, 215,\n",
       "        97, 960, 195, 187], dtype=int64)"
      ]
     },
     "execution_count": 20,
     "metadata": {},
     "output_type": "execute_result"
    }
   ],
   "source": [
    "df[\"ap_hi\"]=df[\"ap_hi\"].apply(pressure_range)\n",
    "df[\"ap_hi\"].unique()"
   ]
  },
  {
   "cell_type": "code",
   "execution_count": 21,
   "id": "554e7485",
   "metadata": {},
   "outputs": [
    {
     "data": {
      "text/plain": [
       "15"
      ]
     },
     "execution_count": 21,
     "metadata": {},
     "output_type": "execute_result"
    }
   ],
   "source": [
    "sum(df[\"ap_hi\"]>370)"
   ]
  },
  {
   "cell_type": "code",
   "execution_count": 22,
   "id": "ee6a650d",
   "metadata": {},
   "outputs": [
    {
     "data": {
      "text/html": [
       "<div>\n",
       "<style scoped>\n",
       "    .dataframe tbody tr th:only-of-type {\n",
       "        vertical-align: middle;\n",
       "    }\n",
       "\n",
       "    .dataframe tbody tr th {\n",
       "        vertical-align: top;\n",
       "    }\n",
       "\n",
       "    .dataframe thead th {\n",
       "        text-align: right;\n",
       "    }\n",
       "</style>\n",
       "<table border=\"1\" class=\"dataframe\">\n",
       "  <thead>\n",
       "    <tr style=\"text-align: right;\">\n",
       "      <th></th>\n",
       "      <th>age</th>\n",
       "      <th>gender</th>\n",
       "      <th>height</th>\n",
       "      <th>weight</th>\n",
       "      <th>ap_hi</th>\n",
       "      <th>ap_lo</th>\n",
       "      <th>cholesterol</th>\n",
       "      <th>gluc</th>\n",
       "      <th>smoke</th>\n",
       "      <th>alco</th>\n",
       "      <th>active</th>\n",
       "      <th>cardio</th>\n",
       "    </tr>\n",
       "  </thead>\n",
       "  <tbody>\n",
       "    <tr>\n",
       "      <th>count</th>\n",
       "      <td>69241.000000</td>\n",
       "      <td>69241.000000</td>\n",
       "      <td>69241.000000</td>\n",
       "      <td>69241.000000</td>\n",
       "      <td>69241.000000</td>\n",
       "      <td>69241.000000</td>\n",
       "      <td>69241.000000</td>\n",
       "      <td>69241.000000</td>\n",
       "      <td>69241.000000</td>\n",
       "      <td>69241.000000</td>\n",
       "      <td>69241.000000</td>\n",
       "      <td>69241.000000</td>\n",
       "    </tr>\n",
       "    <tr>\n",
       "      <th>mean</th>\n",
       "      <td>19469.437486</td>\n",
       "      <td>1.349634</td>\n",
       "      <td>164.363239</td>\n",
       "      <td>74.210656</td>\n",
       "      <td>127.018862</td>\n",
       "      <td>96.613235</td>\n",
       "      <td>1.367008</td>\n",
       "      <td>1.226484</td>\n",
       "      <td>0.088069</td>\n",
       "      <td>0.053855</td>\n",
       "      <td>0.803989</td>\n",
       "      <td>0.499805</td>\n",
       "    </tr>\n",
       "    <tr>\n",
       "      <th>std</th>\n",
       "      <td>2467.155592</td>\n",
       "      <td>0.476858</td>\n",
       "      <td>8.206934</td>\n",
       "      <td>14.384718</td>\n",
       "      <td>17.097522</td>\n",
       "      <td>188.947057</td>\n",
       "      <td>0.680414</td>\n",
       "      <td>0.572253</td>\n",
       "      <td>0.283398</td>\n",
       "      <td>0.225734</td>\n",
       "      <td>0.396980</td>\n",
       "      <td>0.500004</td>\n",
       "    </tr>\n",
       "    <tr>\n",
       "      <th>min</th>\n",
       "      <td>10798.000000</td>\n",
       "      <td>1.000000</td>\n",
       "      <td>55.000000</td>\n",
       "      <td>10.000000</td>\n",
       "      <td>80.000000</td>\n",
       "      <td>-70.000000</td>\n",
       "      <td>1.000000</td>\n",
       "      <td>1.000000</td>\n",
       "      <td>0.000000</td>\n",
       "      <td>0.000000</td>\n",
       "      <td>0.000000</td>\n",
       "      <td>0.000000</td>\n",
       "    </tr>\n",
       "    <tr>\n",
       "      <th>25%</th>\n",
       "      <td>17666.000000</td>\n",
       "      <td>1.000000</td>\n",
       "      <td>159.000000</td>\n",
       "      <td>65.000000</td>\n",
       "      <td>120.000000</td>\n",
       "      <td>80.000000</td>\n",
       "      <td>1.000000</td>\n",
       "      <td>1.000000</td>\n",
       "      <td>0.000000</td>\n",
       "      <td>0.000000</td>\n",
       "      <td>1.000000</td>\n",
       "      <td>0.000000</td>\n",
       "    </tr>\n",
       "    <tr>\n",
       "      <th>50%</th>\n",
       "      <td>19704.000000</td>\n",
       "      <td>1.000000</td>\n",
       "      <td>165.000000</td>\n",
       "      <td>72.000000</td>\n",
       "      <td>120.000000</td>\n",
       "      <td>80.000000</td>\n",
       "      <td>1.000000</td>\n",
       "      <td>1.000000</td>\n",
       "      <td>0.000000</td>\n",
       "      <td>0.000000</td>\n",
       "      <td>1.000000</td>\n",
       "      <td>0.000000</td>\n",
       "    </tr>\n",
       "    <tr>\n",
       "      <th>75%</th>\n",
       "      <td>21327.000000</td>\n",
       "      <td>2.000000</td>\n",
       "      <td>170.000000</td>\n",
       "      <td>82.000000</td>\n",
       "      <td>140.000000</td>\n",
       "      <td>90.000000</td>\n",
       "      <td>2.000000</td>\n",
       "      <td>1.000000</td>\n",
       "      <td>0.000000</td>\n",
       "      <td>0.000000</td>\n",
       "      <td>1.000000</td>\n",
       "      <td>1.000000</td>\n",
       "    </tr>\n",
       "    <tr>\n",
       "      <th>max</th>\n",
       "      <td>23713.000000</td>\n",
       "      <td>2.000000</td>\n",
       "      <td>250.000000</td>\n",
       "      <td>200.000000</td>\n",
       "      <td>309.000000</td>\n",
       "      <td>11000.000000</td>\n",
       "      <td>3.000000</td>\n",
       "      <td>3.000000</td>\n",
       "      <td>1.000000</td>\n",
       "      <td>1.000000</td>\n",
       "      <td>1.000000</td>\n",
       "      <td>1.000000</td>\n",
       "    </tr>\n",
       "  </tbody>\n",
       "</table>\n",
       "</div>"
      ],
      "text/plain": [
       "                age        gender        height        weight         ap_hi  \\\n",
       "count  69241.000000  69241.000000  69241.000000  69241.000000  69241.000000   \n",
       "mean   19469.437486      1.349634    164.363239     74.210656    127.018862   \n",
       "std     2467.155592      0.476858      8.206934     14.384718     17.097522   \n",
       "min    10798.000000      1.000000     55.000000     10.000000     80.000000   \n",
       "25%    17666.000000      1.000000    159.000000     65.000000    120.000000   \n",
       "50%    19704.000000      1.000000    165.000000     72.000000    120.000000   \n",
       "75%    21327.000000      2.000000    170.000000     82.000000    140.000000   \n",
       "max    23713.000000      2.000000    250.000000    200.000000    309.000000   \n",
       "\n",
       "              ap_lo   cholesterol          gluc         smoke          alco  \\\n",
       "count  69241.000000  69241.000000  69241.000000  69241.000000  69241.000000   \n",
       "mean      96.613235      1.367008      1.226484      0.088069      0.053855   \n",
       "std      188.947057      0.680414      0.572253      0.283398      0.225734   \n",
       "min      -70.000000      1.000000      1.000000      0.000000      0.000000   \n",
       "25%       80.000000      1.000000      1.000000      0.000000      0.000000   \n",
       "50%       80.000000      1.000000      1.000000      0.000000      0.000000   \n",
       "75%       90.000000      2.000000      1.000000      0.000000      0.000000   \n",
       "max    11000.000000      3.000000      3.000000      1.000000      1.000000   \n",
       "\n",
       "             active        cardio  \n",
       "count  69241.000000  69241.000000  \n",
       "mean       0.803989      0.499805  \n",
       "std        0.396980      0.500004  \n",
       "min        0.000000      0.000000  \n",
       "25%        1.000000      0.000000  \n",
       "50%        1.000000      0.000000  \n",
       "75%        1.000000      1.000000  \n",
       "max        1.000000      1.000000  "
      ]
     },
     "execution_count": 22,
     "metadata": {},
     "output_type": "execute_result"
    }
   ],
   "source": [
    "df=df[df[\"ap_hi\"].between(80,370)]\n",
    "df.describe()"
   ]
  },
  {
   "cell_type": "markdown",
   "id": "22426a51",
   "metadata": {},
   "source": [
    "## ap_lo Cleaning"
   ]
  },
  {
   "cell_type": "code",
   "execution_count": 23,
   "id": "ddd9d326",
   "metadata": {},
   "outputs": [
    {
     "data": {
      "text/plain": [
       "array([   80,    70,    90,   100,  1000,    60,    79,    78,   110,\n",
       "          84,    75,  1100,    85,    86,    87,  1001,    82,    95,\n",
       "          69,    74,    97,    65,   120,    81,    73,    89,  1200,\n",
       "          83,   119,    50,    93,   105, 10000,   150,    99,    77,\n",
       "          59,  8044,   140,    92,  1044,   108,   125,   115,    68,\n",
       "          61,   106,   102,    91,    94,    66,    52,   170,    76,\n",
       "         160,    62,    30,    96,   130,   113,    67,  9100,  1033,\n",
       "          10,    88,   902,     8,   112,   104,    71,    72,  1008,\n",
       "          98,    20,   802,  8000,  1022,   850,    40,   708,    57,\n",
       "         101,  9011,  1011,    64,     0,  1007,  1177,  7100,   109,\n",
       "          45,   709,    63,  8500,   800,    58,  1110,  8099,  1088,\n",
       "         126,  1077,  1120,     7,   103,  1125,   180,   121,  8100,\n",
       "         710,  5700,  8079,  1111,  1003,     6,  1900,   809,   114,\n",
       "         801,  1002,    53,   111,     1,   118,    56,   182,   810,\n",
       "           9,  7099, 11000,  9800,  8200,  1139,   107,   820,    55,\n",
       "        1400,   190,   900,   122,  6800,   135,   700,  1101,   910,\n",
       "        1140,  1211,   -70,    54,  8077,   901,   880,   870,   585,\n",
       "          49,   602], dtype=int64)"
      ]
     },
     "execution_count": 23,
     "metadata": {},
     "output_type": "execute_result"
    }
   ],
   "source": [
    "df[\"ap_lo\"].unique()"
   ]
  },
  {
   "cell_type": "code",
   "execution_count": 24,
   "id": "b631f2ad",
   "metadata": {},
   "outputs": [
    {
     "data": {
      "text/plain": [
       "array([   80,    70,    90,   100,  1000,    60,    79,    78,   110,\n",
       "          84,    75,  1100,    85,    86,    87,  1001,    82,    95,\n",
       "          69,    74,    97,    65,   120,    81,    73,    89,  1200,\n",
       "          83,   119,    50,    93,   105, 10000,   150,    99,    77,\n",
       "          59,  8044,   140,    92,  1044,   108,   125,   115,    68,\n",
       "          61,   106,   102,    91,    94,    66,    52,   170,    76,\n",
       "         160,    62,    30,    96,   130,   113,    67,  9100,  1033,\n",
       "          10,    88,   902,     8,   112,   104,    71,    72,  1008,\n",
       "          98,    20,   802,  8000,  1022,   850,    40,   708,    57,\n",
       "         101,  9011,  1011,    64,     0,  1007,  1177,  7100,   109,\n",
       "          45,   709,    63,  8500,   800,    58,  1110,  8099,  1088,\n",
       "         126,  1077,  1120,     7,   103,  1125,   180,   121,  8100,\n",
       "         710,  5700,  8079,  1111,  1003,     6,  1900,   809,   114,\n",
       "         801,  1002,    53,   111,     1,   118,    56,   182,   810,\n",
       "           9,  7099, 11000,  9800,  8200,  1139,   107,   820,    55,\n",
       "        1400,   190,   900,   122,  6800,   135,   700,  1101,   910,\n",
       "        1140,  1211,    54,  8077,   901,   880,   870,   585,    49,\n",
       "         602], dtype=int64)"
      ]
     },
     "execution_count": 24,
     "metadata": {},
     "output_type": "execute_result"
    }
   ],
   "source": [
    "df[\"ap_lo\"]=df[\"ap_lo\"].abs()\n",
    "df[\"ap_lo\"].unique()"
   ]
  },
  {
   "cell_type": "code",
   "execution_count": 25,
   "id": "40d9d71d",
   "metadata": {},
   "outputs": [
    {
     "data": {
      "text/plain": [
       "count    69241.000000\n",
       "mean        96.615257\n",
       "std        188.946023\n",
       "min          0.000000\n",
       "25%         80.000000\n",
       "50%         80.000000\n",
       "75%         90.000000\n",
       "max      11000.000000\n",
       "Name: ap_lo, dtype: float64"
      ]
     },
     "execution_count": 25,
     "metadata": {},
     "output_type": "execute_result"
    }
   ],
   "source": [
    "df[\"ap_lo\"].describe()"
   ]
  },
  {
   "cell_type": "code",
   "execution_count": 26,
   "id": "4c56d697",
   "metadata": {},
   "outputs": [
    {
     "data": {
      "text/plain": [
       "940"
      ]
     },
     "execution_count": 26,
     "metadata": {},
     "output_type": "execute_result"
    }
   ],
   "source": [
    "sum(df[\"ap_lo\"]>360)"
   ]
  },
  {
   "cell_type": "code",
   "execution_count": 27,
   "id": "0f9c24ef",
   "metadata": {},
   "outputs": [
    {
     "data": {
      "text/plain": [
       "158"
      ]
     },
     "execution_count": 27,
     "metadata": {},
     "output_type": "execute_result"
    }
   ],
   "source": [
    "sum(df[\"ap_lo\"]<60)"
   ]
  },
  {
   "cell_type": "code",
   "execution_count": 28,
   "id": "44eb9848",
   "metadata": {},
   "outputs": [
    {
     "data": {
      "text/plain": [
       "15"
      ]
     },
     "execution_count": 28,
     "metadata": {},
     "output_type": "execute_result"
    }
   ],
   "source": [
    "sum(df[\"ap_lo\"]==0)"
   ]
  },
  {
   "cell_type": "code",
   "execution_count": 29,
   "id": "16a53769",
   "metadata": {},
   "outputs": [
    {
     "data": {
      "text/plain": [
       "array([   80,    70,    90,   100,  1000,    60,    79,    78,   110,\n",
       "          84,    75,  1100,    85,    86,    87,  1001,    82,    95,\n",
       "          69,    74,    97,    65,   120,    81,    73,    89,  1200,\n",
       "          83,   119,    50,    93,   105, 10000,   150,    99,    77,\n",
       "          59,  8044,   140,    92,  1044,   108,   125,   115,    68,\n",
       "          61,   106,   102,    91,    94,    66,    52,   170,    76,\n",
       "         160,    62,    30,    96,   130,   113,    67,  9100,  1033,\n",
       "          10,    88,   902,     8,   112,   104,    71,    72,  1008,\n",
       "          98,    20,   802,  8000,  1022,   850,    40,   708,    57,\n",
       "         101,  9011,  1011,    64,  1007,  1177,  7100,   109,    45,\n",
       "         709,    63,  8500,   800,    58,  1110,  8099,  1088,   126,\n",
       "        1077,  1120,     7,   103,  1125,   180,   121,  8100,   710,\n",
       "        5700,  8079,  1111,  1003,     6,  1900,   809,   114,   801,\n",
       "        1002,    53,   111,     1,   118,    56,   182,   810,     9,\n",
       "        7099, 11000,  9800,  8200,  1139,   107,   820,    55,  1400,\n",
       "         190,   900,   122,  6800,   135,   700,  1101,   910,  1140,\n",
       "        1211,    54,  8077,   901,   880,   870,   585,    49,   602],\n",
       "      dtype=int64)"
      ]
     },
     "execution_count": 29,
     "metadata": {},
     "output_type": "execute_result"
    }
   ],
   "source": [
    "df=df[df[\"ap_lo\"]!=0]\n",
    "df[\"ap_lo\"].unique()"
   ]
  },
  {
   "cell_type": "code",
   "execution_count": 30,
   "id": "ba2b3939",
   "metadata": {},
   "outputs": [
    {
     "data": {
      "text/plain": [
       "count    69226.000000\n",
       "mean        96.636192\n",
       "std        188.961140\n",
       "min          1.000000\n",
       "25%         80.000000\n",
       "50%         80.000000\n",
       "75%         90.000000\n",
       "max      11000.000000\n",
       "Name: ap_lo, dtype: float64"
      ]
     },
     "execution_count": 30,
     "metadata": {},
     "output_type": "execute_result"
    }
   ],
   "source": [
    "df[\"ap_lo\"].describe()"
   ]
  },
  {
   "cell_type": "code",
   "execution_count": 31,
   "id": "edcbb494",
   "metadata": {},
   "outputs": [
    {
     "data": {
      "text/plain": [
       "array([ 80,  70,  90, 100,  60,  79,  78, 110,  84,  75,  85,  86,  87,\n",
       "        82,  95,  69,  74,  97,  65, 120,  81,  73,  89,  83, 119,  50,\n",
       "        93, 105, 150,  99,  77,  59, 804, 140,  92, 104, 108, 125, 115,\n",
       "        68,  61, 106, 102,  91,  94,  66,  52, 170,  76, 160,  62, 300,\n",
       "        96, 130, 113,  67, 910, 103,  88, 902, 112,  71,  72,  98, 200,\n",
       "       802, 800, 850, 400, 708,  57, 101, 901,  64, 117, 710, 109, 450,\n",
       "       709,  63,  58, 111, 809, 126, 107, 180, 121, 810, 570, 807, 190,\n",
       "       114, 801,  53,  10, 118,  56, 182, 980, 820,  55, 900, 122, 680,\n",
       "       135, 700,  54, 880, 870, 585, 490, 602], dtype=int64)"
      ]
     },
     "execution_count": 31,
     "metadata": {},
     "output_type": "execute_result"
    }
   ],
   "source": [
    "df[\"ap_lo\"]=df[\"ap_lo\"].apply(pressure_range)\n",
    "df[\"ap_lo\"].unique()"
   ]
  },
  {
   "cell_type": "code",
   "execution_count": 32,
   "id": "49319459",
   "metadata": {},
   "outputs": [
    {
     "data": {
      "text/plain": [
       "68"
      ]
     },
     "execution_count": 32,
     "metadata": {},
     "output_type": "execute_result"
    }
   ],
   "source": [
    "sum(df[\"ap_lo\"]>360)"
   ]
  },
  {
   "cell_type": "code",
   "execution_count": 33,
   "id": "9e4d459d",
   "metadata": {},
   "outputs": [
    {
     "data": {
      "text/plain": [
       "92"
      ]
     },
     "execution_count": 33,
     "metadata": {},
     "output_type": "execute_result"
    }
   ],
   "source": [
    "sum(df[\"ap_lo\"]<60)"
   ]
  },
  {
   "cell_type": "code",
   "execution_count": 34,
   "id": "6827c3e9",
   "metadata": {},
   "outputs": [
    {
     "data": {
      "text/plain": [
       "count    69226.000000\n",
       "mean        82.317410\n",
       "std         22.647868\n",
       "min         10.000000\n",
       "25%         80.000000\n",
       "50%         80.000000\n",
       "75%         90.000000\n",
       "max        980.000000\n",
       "Name: ap_lo, dtype: float64"
      ]
     },
     "execution_count": 34,
     "metadata": {},
     "output_type": "execute_result"
    }
   ],
   "source": [
    "df[\"ap_lo\"].describe()"
   ]
  },
  {
   "cell_type": "code",
   "execution_count": 35,
   "id": "7a71b4c7",
   "metadata": {},
   "outputs": [
    {
     "data": {
      "text/html": [
       "<div>\n",
       "<style scoped>\n",
       "    .dataframe tbody tr th:only-of-type {\n",
       "        vertical-align: middle;\n",
       "    }\n",
       "\n",
       "    .dataframe tbody tr th {\n",
       "        vertical-align: top;\n",
       "    }\n",
       "\n",
       "    .dataframe thead th {\n",
       "        text-align: right;\n",
       "    }\n",
       "</style>\n",
       "<table border=\"1\" class=\"dataframe\">\n",
       "  <thead>\n",
       "    <tr style=\"text-align: right;\">\n",
       "      <th></th>\n",
       "      <th>age</th>\n",
       "      <th>gender</th>\n",
       "      <th>height</th>\n",
       "      <th>weight</th>\n",
       "      <th>ap_hi</th>\n",
       "      <th>ap_lo</th>\n",
       "      <th>cholesterol</th>\n",
       "      <th>gluc</th>\n",
       "      <th>smoke</th>\n",
       "      <th>alco</th>\n",
       "      <th>active</th>\n",
       "      <th>cardio</th>\n",
       "    </tr>\n",
       "  </thead>\n",
       "  <tbody>\n",
       "    <tr>\n",
       "      <th>count</th>\n",
       "      <td>69066.000000</td>\n",
       "      <td>69066.000000</td>\n",
       "      <td>69066.000000</td>\n",
       "      <td>69066.000000</td>\n",
       "      <td>69066.000000</td>\n",
       "      <td>69066.000000</td>\n",
       "      <td>69066.000000</td>\n",
       "      <td>69066.000000</td>\n",
       "      <td>69066.000000</td>\n",
       "      <td>69066.000000</td>\n",
       "      <td>69066.000000</td>\n",
       "      <td>69066.000000</td>\n",
       "    </tr>\n",
       "    <tr>\n",
       "      <th>mean</th>\n",
       "      <td>19470.357629</td>\n",
       "      <td>1.349767</td>\n",
       "      <td>164.367315</td>\n",
       "      <td>74.227148</td>\n",
       "      <td>127.038673</td>\n",
       "      <td>81.748748</td>\n",
       "      <td>1.367011</td>\n",
       "      <td>1.226551</td>\n",
       "      <td>0.088032</td>\n",
       "      <td>0.053833</td>\n",
       "      <td>0.804057</td>\n",
       "      <td>0.500029</td>\n",
       "    </tr>\n",
       "    <tr>\n",
       "      <th>std</th>\n",
       "      <td>2466.761690</td>\n",
       "      <td>0.476900</td>\n",
       "      <td>8.205996</td>\n",
       "      <td>14.382681</td>\n",
       "      <td>17.059789</td>\n",
       "      <td>10.199586</td>\n",
       "      <td>0.680483</td>\n",
       "      <td>0.572420</td>\n",
       "      <td>0.283343</td>\n",
       "      <td>0.225689</td>\n",
       "      <td>0.396928</td>\n",
       "      <td>0.500004</td>\n",
       "    </tr>\n",
       "    <tr>\n",
       "      <th>min</th>\n",
       "      <td>10798.000000</td>\n",
       "      <td>1.000000</td>\n",
       "      <td>55.000000</td>\n",
       "      <td>10.000000</td>\n",
       "      <td>80.000000</td>\n",
       "      <td>60.000000</td>\n",
       "      <td>1.000000</td>\n",
       "      <td>1.000000</td>\n",
       "      <td>0.000000</td>\n",
       "      <td>0.000000</td>\n",
       "      <td>0.000000</td>\n",
       "      <td>0.000000</td>\n",
       "    </tr>\n",
       "    <tr>\n",
       "      <th>25%</th>\n",
       "      <td>17666.250000</td>\n",
       "      <td>1.000000</td>\n",
       "      <td>159.000000</td>\n",
       "      <td>65.000000</td>\n",
       "      <td>120.000000</td>\n",
       "      <td>80.000000</td>\n",
       "      <td>1.000000</td>\n",
       "      <td>1.000000</td>\n",
       "      <td>0.000000</td>\n",
       "      <td>0.000000</td>\n",
       "      <td>1.000000</td>\n",
       "      <td>0.000000</td>\n",
       "    </tr>\n",
       "    <tr>\n",
       "      <th>50%</th>\n",
       "      <td>19705.000000</td>\n",
       "      <td>1.000000</td>\n",
       "      <td>165.000000</td>\n",
       "      <td>72.000000</td>\n",
       "      <td>120.000000</td>\n",
       "      <td>80.000000</td>\n",
       "      <td>1.000000</td>\n",
       "      <td>1.000000</td>\n",
       "      <td>0.000000</td>\n",
       "      <td>0.000000</td>\n",
       "      <td>1.000000</td>\n",
       "      <td>1.000000</td>\n",
       "    </tr>\n",
       "    <tr>\n",
       "      <th>75%</th>\n",
       "      <td>21327.000000</td>\n",
       "      <td>2.000000</td>\n",
       "      <td>170.000000</td>\n",
       "      <td>82.000000</td>\n",
       "      <td>140.000000</td>\n",
       "      <td>90.000000</td>\n",
       "      <td>2.000000</td>\n",
       "      <td>1.000000</td>\n",
       "      <td>0.000000</td>\n",
       "      <td>0.000000</td>\n",
       "      <td>1.000000</td>\n",
       "      <td>1.000000</td>\n",
       "    </tr>\n",
       "    <tr>\n",
       "      <th>max</th>\n",
       "      <td>23713.000000</td>\n",
       "      <td>2.000000</td>\n",
       "      <td>250.000000</td>\n",
       "      <td>200.000000</td>\n",
       "      <td>240.000000</td>\n",
       "      <td>300.000000</td>\n",
       "      <td>3.000000</td>\n",
       "      <td>3.000000</td>\n",
       "      <td>1.000000</td>\n",
       "      <td>1.000000</td>\n",
       "      <td>1.000000</td>\n",
       "      <td>1.000000</td>\n",
       "    </tr>\n",
       "  </tbody>\n",
       "</table>\n",
       "</div>"
      ],
      "text/plain": [
       "                age        gender        height        weight         ap_hi  \\\n",
       "count  69066.000000  69066.000000  69066.000000  69066.000000  69066.000000   \n",
       "mean   19470.357629      1.349767    164.367315     74.227148    127.038673   \n",
       "std     2466.761690      0.476900      8.205996     14.382681     17.059789   \n",
       "min    10798.000000      1.000000     55.000000     10.000000     80.000000   \n",
       "25%    17666.250000      1.000000    159.000000     65.000000    120.000000   \n",
       "50%    19705.000000      1.000000    165.000000     72.000000    120.000000   \n",
       "75%    21327.000000      2.000000    170.000000     82.000000    140.000000   \n",
       "max    23713.000000      2.000000    250.000000    200.000000    240.000000   \n",
       "\n",
       "              ap_lo   cholesterol          gluc         smoke          alco  \\\n",
       "count  69066.000000  69066.000000  69066.000000  69066.000000  69066.000000   \n",
       "mean      81.748748      1.367011      1.226551      0.088032      0.053833   \n",
       "std       10.199586      0.680483      0.572420      0.283343      0.225689   \n",
       "min       60.000000      1.000000      1.000000      0.000000      0.000000   \n",
       "25%       80.000000      1.000000      1.000000      0.000000      0.000000   \n",
       "50%       80.000000      1.000000      1.000000      0.000000      0.000000   \n",
       "75%       90.000000      2.000000      1.000000      0.000000      0.000000   \n",
       "max      300.000000      3.000000      3.000000      1.000000      1.000000   \n",
       "\n",
       "             active        cardio  \n",
       "count  69066.000000  69066.000000  \n",
       "mean       0.804057      0.500029  \n",
       "std        0.396928      0.500004  \n",
       "min        0.000000      0.000000  \n",
       "25%        1.000000      0.000000  \n",
       "50%        1.000000      1.000000  \n",
       "75%        1.000000      1.000000  \n",
       "max        1.000000      1.000000  "
      ]
     },
     "execution_count": 35,
     "metadata": {},
     "output_type": "execute_result"
    }
   ],
   "source": [
    "df=df[df[\"ap_lo\"].between(60,360)]\n",
    "df.describe()"
   ]
  },
  {
   "cell_type": "code",
   "execution_count": 36,
   "id": "69e8bc9b",
   "metadata": {},
   "outputs": [
    {
     "data": {
      "text/plain": [
       "(69066, 12)"
      ]
     },
     "execution_count": 36,
     "metadata": {},
     "output_type": "execute_result"
    }
   ],
   "source": [
    "df.shape"
   ]
  },
  {
   "cell_type": "markdown",
   "id": "c3452514",
   "metadata": {},
   "source": [
    "## Adding pulse pressure"
   ]
  },
  {
   "cell_type": "code",
   "execution_count": 37,
   "id": "75d77275",
   "metadata": {},
   "outputs": [],
   "source": [
    "df[\"pulse_pressure\"]=df[\"ap_hi\"]-df[\"ap_lo\"]"
   ]
  },
  {
   "cell_type": "code",
   "execution_count": 38,
   "id": "09aa1e67",
   "metadata": {},
   "outputs": [],
   "source": [
    "df=df.loc[:, ['age', 'gender', 'height', 'weight', 'ap_hi', 'ap_lo', 'pulse_pressure' , 'cholesterol',\n",
    "       'gluc', 'smoke', 'alco', 'active', 'cardio']]"
   ]
  },
  {
   "cell_type": "code",
   "execution_count": 39,
   "id": "b69f48ab",
   "metadata": {},
   "outputs": [
    {
     "data": {
      "text/plain": [
       "array([  50,   40,   30,   60,   70,   41,   80,   20,   62,   63,   35,\n",
       "         45,  100,   51,   66,   65,   58,   76,   44,   39,   90,   59,\n",
       "         91,   61,   55,   85,   37,   31,   53,   72,   27,   73,   47,\n",
       "         33,  110,   38,   71,  -60,   10,   25,   43,   42,   15,   36,\n",
       "         32,   34,   21,  -45,  -40,   18,   89,   67,   49,   57,   48,\n",
       "        -50,  -90,   23, -180,   97,  -35,   75,   79,   52,   69,   56,\n",
       "         54,   46,   11,   78,   64,   68,   95,  -70,  -10,   84,  -72,\n",
       "        130,   96,   81,   24,    0,   87,   94,   82,  120,   93,  121,\n",
       "        -75,  115,   77,   22,   98,   28,   83,  -30,   12,    5,    9,\n",
       "        -80,  108,   86,   -5,   17,   29,   74,   14,  101,   99,  -20,\n",
       "       -140,  103,  107,   92, -100,  140,  -85,  105,  -25,  135,  109,\n",
       "        -65,  106,   19], dtype=int64)"
      ]
     },
     "execution_count": 39,
     "metadata": {},
     "output_type": "execute_result"
    }
   ],
   "source": [
    "df[\"pulse_pressure\"].unique()"
   ]
  },
  {
   "cell_type": "code",
   "execution_count": 40,
   "id": "f5867d7a",
   "metadata": {},
   "outputs": [
    {
     "data": {
      "text/plain": [
       "count    69066.000000\n",
       "mean        45.289926\n",
       "std         12.459460\n",
       "min       -180.000000\n",
       "25%         40.000000\n",
       "50%         40.000000\n",
       "75%         50.000000\n",
       "max        140.000000\n",
       "Name: pulse_pressure, dtype: float64"
      ]
     },
     "execution_count": 40,
     "metadata": {},
     "output_type": "execute_result"
    }
   ],
   "source": [
    "df[\"pulse_pressure\"].describe()"
   ]
  },
  {
   "cell_type": "code",
   "execution_count": 41,
   "id": "5169b1c2",
   "metadata": {},
   "outputs": [
    {
     "data": {
      "text/plain": [
       "118"
      ]
     },
     "execution_count": 41,
     "metadata": {},
     "output_type": "execute_result"
    }
   ],
   "source": [
    "sum(df[\"pulse_pressure\"]<10)"
   ]
  },
  {
   "cell_type": "code",
   "execution_count": 42,
   "id": "dcb61c3f",
   "metadata": {},
   "outputs": [
    {
     "data": {
      "text/plain": [
       "11"
      ]
     },
     "execution_count": 42,
     "metadata": {},
     "output_type": "execute_result"
    }
   ],
   "source": [
    "sum(df[\"pulse_pressure\"]>120)"
   ]
  },
  {
   "cell_type": "code",
   "execution_count": 43,
   "id": "c10e3785",
   "metadata": {},
   "outputs": [
    {
     "data": {
      "text/html": [
       "<div>\n",
       "<style scoped>\n",
       "    .dataframe tbody tr th:only-of-type {\n",
       "        vertical-align: middle;\n",
       "    }\n",
       "\n",
       "    .dataframe tbody tr th {\n",
       "        vertical-align: top;\n",
       "    }\n",
       "\n",
       "    .dataframe thead th {\n",
       "        text-align: right;\n",
       "    }\n",
       "</style>\n",
       "<table border=\"1\" class=\"dataframe\">\n",
       "  <thead>\n",
       "    <tr style=\"text-align: right;\">\n",
       "      <th></th>\n",
       "      <th>age</th>\n",
       "      <th>gender</th>\n",
       "      <th>height</th>\n",
       "      <th>weight</th>\n",
       "      <th>ap_hi</th>\n",
       "      <th>ap_lo</th>\n",
       "      <th>pulse_pressure</th>\n",
       "      <th>cholesterol</th>\n",
       "      <th>gluc</th>\n",
       "      <th>smoke</th>\n",
       "      <th>alco</th>\n",
       "      <th>active</th>\n",
       "      <th>cardio</th>\n",
       "    </tr>\n",
       "  </thead>\n",
       "  <tbody>\n",
       "    <tr>\n",
       "      <th>count</th>\n",
       "      <td>68937.000000</td>\n",
       "      <td>68937.000000</td>\n",
       "      <td>68937.000000</td>\n",
       "      <td>68937.000000</td>\n",
       "      <td>68937.000000</td>\n",
       "      <td>68937.000000</td>\n",
       "      <td>68937.000000</td>\n",
       "      <td>68937.000000</td>\n",
       "      <td>68937.000000</td>\n",
       "      <td>68937.000000</td>\n",
       "      <td>68937.000000</td>\n",
       "      <td>68937.000000</td>\n",
       "      <td>68937.000000</td>\n",
       "    </tr>\n",
       "    <tr>\n",
       "      <th>mean</th>\n",
       "      <td>19470.419746</td>\n",
       "      <td>1.349638</td>\n",
       "      <td>164.364913</td>\n",
       "      <td>74.221669</td>\n",
       "      <td>127.078855</td>\n",
       "      <td>81.635392</td>\n",
       "      <td>45.443463</td>\n",
       "      <td>1.366958</td>\n",
       "      <td>1.226352</td>\n",
       "      <td>0.088022</td>\n",
       "      <td>0.053614</td>\n",
       "      <td>0.804038</td>\n",
       "      <td>0.499746</td>\n",
       "    </tr>\n",
       "    <tr>\n",
       "      <th>std</th>\n",
       "      <td>2467.103684</td>\n",
       "      <td>0.476859</td>\n",
       "      <td>8.204814</td>\n",
       "      <td>14.382959</td>\n",
       "      <td>16.977158</td>\n",
       "      <td>9.654271</td>\n",
       "      <td>11.668317</td>\n",
       "      <td>0.680427</td>\n",
       "      <td>0.572143</td>\n",
       "      <td>0.283330</td>\n",
       "      <td>0.225256</td>\n",
       "      <td>0.396942</td>\n",
       "      <td>0.500004</td>\n",
       "    </tr>\n",
       "    <tr>\n",
       "      <th>min</th>\n",
       "      <td>10798.000000</td>\n",
       "      <td>1.000000</td>\n",
       "      <td>55.000000</td>\n",
       "      <td>10.000000</td>\n",
       "      <td>80.000000</td>\n",
       "      <td>60.000000</td>\n",
       "      <td>10.000000</td>\n",
       "      <td>1.000000</td>\n",
       "      <td>1.000000</td>\n",
       "      <td>0.000000</td>\n",
       "      <td>0.000000</td>\n",
       "      <td>0.000000</td>\n",
       "      <td>0.000000</td>\n",
       "    </tr>\n",
       "    <tr>\n",
       "      <th>25%</th>\n",
       "      <td>17666.000000</td>\n",
       "      <td>1.000000</td>\n",
       "      <td>159.000000</td>\n",
       "      <td>65.000000</td>\n",
       "      <td>120.000000</td>\n",
       "      <td>80.000000</td>\n",
       "      <td>40.000000</td>\n",
       "      <td>1.000000</td>\n",
       "      <td>1.000000</td>\n",
       "      <td>0.000000</td>\n",
       "      <td>0.000000</td>\n",
       "      <td>1.000000</td>\n",
       "      <td>0.000000</td>\n",
       "    </tr>\n",
       "    <tr>\n",
       "      <th>50%</th>\n",
       "      <td>19705.000000</td>\n",
       "      <td>1.000000</td>\n",
       "      <td>165.000000</td>\n",
       "      <td>72.000000</td>\n",
       "      <td>120.000000</td>\n",
       "      <td>80.000000</td>\n",
       "      <td>40.000000</td>\n",
       "      <td>1.000000</td>\n",
       "      <td>1.000000</td>\n",
       "      <td>0.000000</td>\n",
       "      <td>0.000000</td>\n",
       "      <td>1.000000</td>\n",
       "      <td>0.000000</td>\n",
       "    </tr>\n",
       "    <tr>\n",
       "      <th>75%</th>\n",
       "      <td>21328.000000</td>\n",
       "      <td>2.000000</td>\n",
       "      <td>170.000000</td>\n",
       "      <td>82.000000</td>\n",
       "      <td>140.000000</td>\n",
       "      <td>90.000000</td>\n",
       "      <td>50.000000</td>\n",
       "      <td>2.000000</td>\n",
       "      <td>1.000000</td>\n",
       "      <td>0.000000</td>\n",
       "      <td>0.000000</td>\n",
       "      <td>1.000000</td>\n",
       "      <td>1.000000</td>\n",
       "    </tr>\n",
       "    <tr>\n",
       "      <th>max</th>\n",
       "      <td>23713.000000</td>\n",
       "      <td>2.000000</td>\n",
       "      <td>250.000000</td>\n",
       "      <td>200.000000</td>\n",
       "      <td>240.000000</td>\n",
       "      <td>200.000000</td>\n",
       "      <td>120.000000</td>\n",
       "      <td>3.000000</td>\n",
       "      <td>3.000000</td>\n",
       "      <td>1.000000</td>\n",
       "      <td>1.000000</td>\n",
       "      <td>1.000000</td>\n",
       "      <td>1.000000</td>\n",
       "    </tr>\n",
       "  </tbody>\n",
       "</table>\n",
       "</div>"
      ],
      "text/plain": [
       "                age        gender        height        weight         ap_hi  \\\n",
       "count  68937.000000  68937.000000  68937.000000  68937.000000  68937.000000   \n",
       "mean   19470.419746      1.349638    164.364913     74.221669    127.078855   \n",
       "std     2467.103684      0.476859      8.204814     14.382959     16.977158   \n",
       "min    10798.000000      1.000000     55.000000     10.000000     80.000000   \n",
       "25%    17666.000000      1.000000    159.000000     65.000000    120.000000   \n",
       "50%    19705.000000      1.000000    165.000000     72.000000    120.000000   \n",
       "75%    21328.000000      2.000000    170.000000     82.000000    140.000000   \n",
       "max    23713.000000      2.000000    250.000000    200.000000    240.000000   \n",
       "\n",
       "              ap_lo  pulse_pressure   cholesterol          gluc         smoke  \\\n",
       "count  68937.000000    68937.000000  68937.000000  68937.000000  68937.000000   \n",
       "mean      81.635392       45.443463      1.366958      1.226352      0.088022   \n",
       "std        9.654271       11.668317      0.680427      0.572143      0.283330   \n",
       "min       60.000000       10.000000      1.000000      1.000000      0.000000   \n",
       "25%       80.000000       40.000000      1.000000      1.000000      0.000000   \n",
       "50%       80.000000       40.000000      1.000000      1.000000      0.000000   \n",
       "75%       90.000000       50.000000      2.000000      1.000000      0.000000   \n",
       "max      200.000000      120.000000      3.000000      3.000000      1.000000   \n",
       "\n",
       "               alco        active        cardio  \n",
       "count  68937.000000  68937.000000  68937.000000  \n",
       "mean       0.053614      0.804038      0.499746  \n",
       "std        0.225256      0.396942      0.500004  \n",
       "min        0.000000      0.000000      0.000000  \n",
       "25%        0.000000      1.000000      0.000000  \n",
       "50%        0.000000      1.000000      0.000000  \n",
       "75%        0.000000      1.000000      1.000000  \n",
       "max        1.000000      1.000000      1.000000  "
      ]
     },
     "execution_count": 43,
     "metadata": {},
     "output_type": "execute_result"
    }
   ],
   "source": [
    "df=df[df[\"pulse_pressure\"].between(10,120)]\n",
    "df.describe()"
   ]
  },
  {
   "cell_type": "markdown",
   "id": "de7c3b3b",
   "metadata": {},
   "source": [
    "## Weight Cleaning"
   ]
  },
  {
   "cell_type": "code",
   "execution_count": 44,
   "id": "0ec03268",
   "metadata": {},
   "outputs": [
    {
     "data": {
      "text/plain": [
       "array([ 69.  ,  71.  ,  70.  ,  85.  ,  62.  ,  61.  ,  72.  ,  93.  ,\n",
       "        68.  ,  65.  ,  57.  ,  82.  ,  56.  ,  60.  ,  45.  ,  90.  ,\n",
       "        74.  ,  88.  ,  95.  , 103.  ,  80.  ,  63.  ,  55.  ,  91.  ,\n",
       "        77.  ,  83.  , 113.  , 129.  ,  81.  ,  94.  ,  76.  ,  96.  ,\n",
       "       114.  ,  79.  ,  78.  ,  73.  ,  86.  ,  58.  ,  64.  ,  87.  ,\n",
       "        75.  ,  67.  , 124.  , 120.  ,  84.  ,  98.  ,  51.  , 105.  ,\n",
       "        42.  , 115.  ,  92.  , 116.  ,  50.  , 100.  , 107.  ,  59.  ,\n",
       "        66.  ,  49.  ,  54.  , 123.  ,  89.  ,  52.  , 110.  , 104.  ,\n",
       "       108.  , 111.  ,  53.  ,  47.  , 102.  ,  99.  , 109.  ,  46.  ,\n",
       "       139.  , 101.  , 125.  , 150.  , 138.  ,  48.  ,  97.  , 106.  ,\n",
       "       131.  , 112.  ,  43.  ,  83.6 , 134.  , 106.5 , 142.  , 117.  ,\n",
       "       121.  ,  40.  , 141.  , 119.  , 126.  , 177.  , 165.  , 122.  ,\n",
       "        41.  ,  62.3 , 118.  ,  89.5 , 132.  , 155.  , 130.  , 159.  ,\n",
       "        84.6 , 140.  ,  82.3 ,  30.  ,  67.9 , 127.  ,  67.5 ,  74.3 ,\n",
       "       149.  , 180.  , 128.  ,  60.2 ,  44.  ,  64.5 ,  58.7 ,  90.5 ,\n",
       "        37.  ,  80.8 , 166.  , 161.  ,  92.2 ,  75.6 , 136.  ,  82.9 ,\n",
       "       154.  ,  68.9 , 170.  ,  84.5 , 135.  ,  72.5 , 146.  ,  70.5 ,\n",
       "        74.2 ,  84.3 ,  38.  ,  54.5 , 145.  ,  68.5 ,  79.5 ,  72.8 ,\n",
       "        73.2 ,  96.5 ,  53.2 ,  39.  ,  61.2 , 168.  , 133.  ,  54.35,\n",
       "        50.7 ,  79.94, 153.  ,  34.  ,  62.4 , 167.  , 156.  ,  35.  ,\n",
       "        70.3 ,  31.  ,  60.5 ,  69.8 ,  64.7 ,  64.1 , 152.  ,  59.5 ,\n",
       "       163.  ,  75.5 ,  78.2 , 162.  , 121.3 , 178.  ,  82.5 ,  90.7 ,\n",
       "        80.6 ,  55.6 ,  59.8 ,  74.77,  65.5 ,  32.  ,  70.8 ,  57.4 ,\n",
       "        73.8 ,  56.2 ,  69.5 ,  71.5 ,  89.1 , 158.  ,  76.5 ,  35.45,\n",
       "        86.5 ,  63.8 ,  23.  , 144.  ,  70.2 ,  68.4 , 148.  , 164.  ,\n",
       "        22.  ,  66.5 ,  54.9 ,  59.2 ,  65.3 , 137.  ,  62.2 ,  50.5 ,\n",
       "        36.  ,  61.5 ,  80.5 ,  81.1 ,  53.6 ,  11.  ,  66.4 ,  76.7 ,\n",
       "        28.  ,  68.3 ,  60.6 ,  76.8 ,  58.8 , 181.  ,  75.2 ,  83.5 ,\n",
       "        64.3 , 175.  ,  84.9 ,  80.7 ,  84.7 ,  60.1 , 105.5 ,  85.5 ,\n",
       "       121.8 ,  51.5 ,  53.9 ,  42.2 ,  74.5 , 114.6 ,  73.5 ,  71.3 ,\n",
       "        33.  ,  66.3 ,  53.3 ,  67.8 ,  70.7 , 200.  ,  52.3 ,  82.4 ,\n",
       "        63.4 ,  71.2 ,  62.5 ,  63.82,  88.5 ,  89.9 ,  72.1 , 106.4 ,\n",
       "       160.  ,  68.2 ,  53.67, 171.  ,  55.2 ,  94.5 , 143.  ,  62.7 ,\n",
       "        53.5 , 109.5 ,  10.  ,  82.1 ,  57.8 ,  84.8 ,  21.  ,  29.  ,\n",
       "       183.  ,  58.5 ,  57.6 ,  78.5 , 172.  , 109.7 ,  61.3 ,  67.3 ,\n",
       "        94.7 , 147.  ,  55.4 ,  99.9 ])"
      ]
     },
     "execution_count": 44,
     "metadata": {},
     "output_type": "execute_result"
    }
   ],
   "source": [
    "df[\"weight\"].unique()"
   ]
  },
  {
   "cell_type": "code",
   "execution_count": 45,
   "id": "36e8ba90",
   "metadata": {},
   "outputs": [
    {
     "data": {
      "text/plain": [
       "(68937,)"
      ]
     },
     "execution_count": 45,
     "metadata": {},
     "output_type": "execute_result"
    }
   ],
   "source": [
    "df[\"weight\"].shape"
   ]
  },
  {
   "cell_type": "code",
   "execution_count": 46,
   "id": "82e5766d",
   "metadata": {},
   "outputs": [],
   "source": [
    "weight_𝜇 = df[\"weight\"].mean()\n",
    "weight_𝜎 = df[\"weight\"].std()\n",
    "min=df[\"weight\"].min()\n",
    "max=df[\"weight\"].max()\n",
    "\n",
    "weight_lower_outilers=weight_𝜇-3*weight_𝜎\n",
    "weight_upper_outilers=weight_𝜇+3*weight_𝜎"
   ]
  },
  {
   "cell_type": "code",
   "execution_count": 47,
   "id": "a3a3024e",
   "metadata": {
    "scrolled": true
   },
   "outputs": [
    {
     "name": "stdout",
     "output_type": "stream",
     "text": [
      "Number of Upper Outliers is: 684\n",
      "Number of Lower Outliers is: 11\n"
     ]
    }
   ],
   "source": [
    "print(\"Number of Upper Outliers is:\",sum(df[\"weight\"]>weight_upper_outilers))\n",
    "print(\"Number of Lower Outliers is:\",sum(df[\"weight\"]<weight_lower_outilers))"
   ]
  },
  {
   "cell_type": "code",
   "execution_count": 48,
   "id": "3a39ebb1",
   "metadata": {},
   "outputs": [
    {
     "data": {
      "text/plain": [
       "<matplotlib.collections.PolyCollection at 0x2193720fe80>"
      ]
     },
     "execution_count": 48,
     "metadata": {},
     "output_type": "execute_result"
    },
    {
     "data": {
      "image/png": "[encoded data removed]",
      "text/plain": [
       "<Figure size 432x288 with 1 Axes>"
      ]
     },
     "metadata": {
      "needs_background": "light"
     },
     "output_type": "display_data"
    }
   ],
   "source": [
    "X = np.linspace(weight_lower_outilers,weight_upper_outilers,68937)\n",
    "points = st.norm(weight_𝜇,weight_𝜎)\n",
    "plt.plot(X, points.pdf(X), 'black')\n",
    "A = np.linspace(min,max)\n",
    "plt.fill_between(A, points.pdf(A), color='orange')"
   ]
  },
  {
   "cell_type": "code",
   "execution_count": 49,
   "id": "97bbb3aa",
   "metadata": {},
   "outputs": [
    {
     "data": {
      "text/plain": [
       "68242"
      ]
     },
     "execution_count": 49,
     "metadata": {},
     "output_type": "execute_result"
    }
   ],
   "source": [
    "sum(np.abs(stats.zscore(df[\"weight\"])) < 3)"
   ]
  },
  {
   "cell_type": "code",
   "execution_count": 50,
   "id": "9bb0f49e",
   "metadata": {},
   "outputs": [],
   "source": [
    "# Removing weight outliers\n",
    "df=df[(np.abs(stats.zscore(df[\"weight\"])) < 3)]"
   ]
  },
  {
   "cell_type": "code",
   "execution_count": 51,
   "id": "c9973241",
   "metadata": {},
   "outputs": [],
   "source": [
    "weight_𝜇 = df[\"weight\"].mean()\n",
    "weight_𝜎 = df[\"weight\"].std()\n",
    "min=df[\"weight\"].min()\n",
    "max=df[\"weight\"].max()\n",
    "\n",
    "weight_lower_outilers=weight_𝜇-3*weight_𝜎\n",
    "weight_upper_outilers=weight_𝜇+3*weight_𝜎"
   ]
  },
  {
   "cell_type": "code",
   "execution_count": 52,
   "id": "9b2fa530",
   "metadata": {},
   "outputs": [
    {
     "data": {
      "text/plain": [
       "<matplotlib.collections.PolyCollection at 0x21936c77730>"
      ]
     },
     "execution_count": 52,
     "metadata": {},
     "output_type": "execute_result"
    },
    {
     "data": {
      "image/png": "[encoded data removed]",
      "text/plain": [
       "<Figure size 432x288 with 1 Axes>"
      ]
     },
     "metadata": {
      "needs_background": "light"
     },
     "output_type": "display_data"
    }
   ],
   "source": [
    "X = np.linspace(weight_lower_outilers,weight_upper_outilers,68937)\n",
    "points = st.norm(weight_𝜇,weight_𝜎)\n",
    "plt.plot(X, points.pdf(X), 'black')\n",
    "A = np.linspace(min,max)\n",
    "plt.fill_between(A, points.pdf(A), color='orange')"
   ]
  },
  {
   "cell_type": "code",
   "execution_count": 53,
   "id": "64aca670",
   "metadata": {},
   "outputs": [
    {
     "data": {
      "text/html": [
       "<div>\n",
       "<style scoped>\n",
       "    .dataframe tbody tr th:only-of-type {\n",
       "        vertical-align: middle;\n",
       "    }\n",
       "\n",
       "    .dataframe tbody tr th {\n",
       "        vertical-align: top;\n",
       "    }\n",
       "\n",
       "    .dataframe thead th {\n",
       "        text-align: right;\n",
       "    }\n",
       "</style>\n",
       "<table border=\"1\" class=\"dataframe\">\n",
       "  <thead>\n",
       "    <tr style=\"text-align: right;\">\n",
       "      <th></th>\n",
       "      <th>age</th>\n",
       "      <th>gender</th>\n",
       "      <th>height</th>\n",
       "      <th>weight</th>\n",
       "      <th>ap_hi</th>\n",
       "      <th>ap_lo</th>\n",
       "      <th>pulse_pressure</th>\n",
       "      <th>cholesterol</th>\n",
       "      <th>gluc</th>\n",
       "      <th>smoke</th>\n",
       "      <th>alco</th>\n",
       "      <th>active</th>\n",
       "      <th>cardio</th>\n",
       "    </tr>\n",
       "  </thead>\n",
       "  <tbody>\n",
       "    <tr>\n",
       "      <th>count</th>\n",
       "      <td>68242.000000</td>\n",
       "      <td>68242.000000</td>\n",
       "      <td>68242.000000</td>\n",
       "      <td>68242.000000</td>\n",
       "      <td>68242.000000</td>\n",
       "      <td>68242.000000</td>\n",
       "      <td>68242.000000</td>\n",
       "      <td>68242.000000</td>\n",
       "      <td>68242.000000</td>\n",
       "      <td>68242.000000</td>\n",
       "      <td>68242.000000</td>\n",
       "      <td>68242.000000</td>\n",
       "      <td>68242.000000</td>\n",
       "    </tr>\n",
       "    <tr>\n",
       "      <th>mean</th>\n",
       "      <td>19472.295815</td>\n",
       "      <td>1.348905</td>\n",
       "      <td>164.331951</td>\n",
       "      <td>73.672549</td>\n",
       "      <td>126.934219</td>\n",
       "      <td>81.563480</td>\n",
       "      <td>45.370739</td>\n",
       "      <td>1.364057</td>\n",
       "      <td>1.223762</td>\n",
       "      <td>0.087468</td>\n",
       "      <td>0.053252</td>\n",
       "      <td>0.804211</td>\n",
       "      <td>0.497480</td>\n",
       "    </tr>\n",
       "    <tr>\n",
       "      <th>std</th>\n",
       "      <td>2466.970515</td>\n",
       "      <td>0.476627</td>\n",
       "      <td>8.143940</td>\n",
       "      <td>13.247064</td>\n",
       "      <td>16.878401</td>\n",
       "      <td>9.608605</td>\n",
       "      <td>11.609522</td>\n",
       "      <td>0.678433</td>\n",
       "      <td>0.569558</td>\n",
       "      <td>0.282522</td>\n",
       "      <td>0.224537</td>\n",
       "      <td>0.396809</td>\n",
       "      <td>0.499997</td>\n",
       "    </tr>\n",
       "    <tr>\n",
       "      <th>min</th>\n",
       "      <td>10798.000000</td>\n",
       "      <td>1.000000</td>\n",
       "      <td>55.000000</td>\n",
       "      <td>32.000000</td>\n",
       "      <td>80.000000</td>\n",
       "      <td>60.000000</td>\n",
       "      <td>10.000000</td>\n",
       "      <td>1.000000</td>\n",
       "      <td>1.000000</td>\n",
       "      <td>0.000000</td>\n",
       "      <td>0.000000</td>\n",
       "      <td>0.000000</td>\n",
       "      <td>0.000000</td>\n",
       "    </tr>\n",
       "    <tr>\n",
       "      <th>25%</th>\n",
       "      <td>17668.000000</td>\n",
       "      <td>1.000000</td>\n",
       "      <td>159.000000</td>\n",
       "      <td>65.000000</td>\n",
       "      <td>120.000000</td>\n",
       "      <td>80.000000</td>\n",
       "      <td>40.000000</td>\n",
       "      <td>1.000000</td>\n",
       "      <td>1.000000</td>\n",
       "      <td>0.000000</td>\n",
       "      <td>0.000000</td>\n",
       "      <td>1.000000</td>\n",
       "      <td>0.000000</td>\n",
       "    </tr>\n",
       "    <tr>\n",
       "      <th>50%</th>\n",
       "      <td>19706.000000</td>\n",
       "      <td>1.000000</td>\n",
       "      <td>165.000000</td>\n",
       "      <td>72.000000</td>\n",
       "      <td>120.000000</td>\n",
       "      <td>80.000000</td>\n",
       "      <td>40.000000</td>\n",
       "      <td>1.000000</td>\n",
       "      <td>1.000000</td>\n",
       "      <td>0.000000</td>\n",
       "      <td>0.000000</td>\n",
       "      <td>1.000000</td>\n",
       "      <td>0.000000</td>\n",
       "    </tr>\n",
       "    <tr>\n",
       "      <th>75%</th>\n",
       "      <td>21329.000000</td>\n",
       "      <td>2.000000</td>\n",
       "      <td>170.000000</td>\n",
       "      <td>82.000000</td>\n",
       "      <td>140.000000</td>\n",
       "      <td>90.000000</td>\n",
       "      <td>50.000000</td>\n",
       "      <td>1.000000</td>\n",
       "      <td>1.000000</td>\n",
       "      <td>0.000000</td>\n",
       "      <td>0.000000</td>\n",
       "      <td>1.000000</td>\n",
       "      <td>1.000000</td>\n",
       "    </tr>\n",
       "    <tr>\n",
       "      <th>max</th>\n",
       "      <td>23713.000000</td>\n",
       "      <td>2.000000</td>\n",
       "      <td>250.000000</td>\n",
       "      <td>117.000000</td>\n",
       "      <td>240.000000</td>\n",
       "      <td>200.000000</td>\n",
       "      <td>120.000000</td>\n",
       "      <td>3.000000</td>\n",
       "      <td>3.000000</td>\n",
       "      <td>1.000000</td>\n",
       "      <td>1.000000</td>\n",
       "      <td>1.000000</td>\n",
       "      <td>1.000000</td>\n",
       "    </tr>\n",
       "  </tbody>\n",
       "</table>\n",
       "</div>"
      ],
      "text/plain": [
       "                age        gender        height        weight         ap_hi  \\\n",
       "count  68242.000000  68242.000000  68242.000000  68242.000000  68242.000000   \n",
       "mean   19472.295815      1.348905    164.331951     73.672549    126.934219   \n",
       "std     2466.970515      0.476627      8.143940     13.247064     16.878401   \n",
       "min    10798.000000      1.000000     55.000000     32.000000     80.000000   \n",
       "25%    17668.000000      1.000000    159.000000     65.000000    120.000000   \n",
       "50%    19706.000000      1.000000    165.000000     72.000000    120.000000   \n",
       "75%    21329.000000      2.000000    170.000000     82.000000    140.000000   \n",
       "max    23713.000000      2.000000    250.000000    117.000000    240.000000   \n",
       "\n",
       "              ap_lo  pulse_pressure   cholesterol          gluc         smoke  \\\n",
       "count  68242.000000    68242.000000  68242.000000  68242.000000  68242.000000   \n",
       "mean      81.563480       45.370739      1.364057      1.223762      0.087468   \n",
       "std        9.608605       11.609522      0.678433      0.569558      0.282522   \n",
       "min       60.000000       10.000000      1.000000      1.000000      0.000000   \n",
       "25%       80.000000       40.000000      1.000000      1.000000      0.000000   \n",
       "50%       80.000000       40.000000      1.000000      1.000000      0.000000   \n",
       "75%       90.000000       50.000000      1.000000      1.000000      0.000000   \n",
       "max      200.000000      120.000000      3.000000      3.000000      1.000000   \n",
       "\n",
       "               alco        active        cardio  \n",
       "count  68242.000000  68242.000000  68242.000000  \n",
       "mean       0.053252      0.804211      0.497480  \n",
       "std        0.224537      0.396809      0.499997  \n",
       "min        0.000000      0.000000      0.000000  \n",
       "25%        0.000000      1.000000      0.000000  \n",
       "50%        0.000000      1.000000      0.000000  \n",
       "75%        0.000000      1.000000      1.000000  \n",
       "max        1.000000      1.000000      1.000000  "
      ]
     },
     "execution_count": 53,
     "metadata": {},
     "output_type": "execute_result"
    }
   ],
   "source": [
    "df.describe()"
   ]
  },
  {
   "cell_type": "markdown",
   "id": "52a00816",
   "metadata": {},
   "source": [
    "## Height Cleaning"
   ]
  },
  {
   "cell_type": "code",
   "execution_count": 54,
   "id": "624c3a59",
   "metadata": {},
   "outputs": [
    {
     "data": {
      "image/png": "[encoded data removed]",
      "text/plain": [
       "<Figure size 720x504 with 1 Axes>"
      ]
     },
     "metadata": {
      "needs_background": "light"
     },
     "output_type": "display_data"
    }
   ],
   "source": [
    "fig = plt.figure(figsize =(10, 7))\n",
    "plt.boxplot(df[\"height\"],vert = 0)\n",
    "plt.show()"
   ]
  },
  {
   "cell_type": "code",
   "execution_count": 55,
   "id": "1cccb67c",
   "metadata": {},
   "outputs": [],
   "source": [
    "## Outliers with sigma\n",
    "height_lower_outilers=df[\"height\"].mean()-3*df[\"height\"].std()\n",
    "height_upper_outilers=df[\"height\"].mean()+3*df[\"height\"].std()"
   ]
  },
  {
   "cell_type": "code",
   "execution_count": 56,
   "id": "c6b71d2e",
   "metadata": {},
   "outputs": [
    {
     "name": "stdout",
     "output_type": "stream",
     "text": [
      "Number of Upper Outliers is: 131\n",
      "Number of Lower Outliers is: 137\n"
     ]
    }
   ],
   "source": [
    "print(\"Number of Upper Outliers is:\",sum(df[\"height\"]>height_upper_outilers))\n",
    "print(\"Number of Lower Outliers is:\",sum(df[\"height\"]<height_lower_outilers))"
   ]
  },
  {
   "cell_type": "code",
   "execution_count": 57,
   "id": "be9cc290",
   "metadata": {},
   "outputs": [
    {
     "data": {
      "text/plain": [
       "67974"
      ]
     },
     "execution_count": 57,
     "metadata": {},
     "output_type": "execute_result"
    }
   ],
   "source": [
    "sum(np.abs(stats.zscore(df[\"height\"])) < 3)"
   ]
  },
  {
   "cell_type": "code",
   "execution_count": 58,
   "id": "23827833",
   "metadata": {},
   "outputs": [],
   "source": [
    "df=df[(np.abs(stats.zscore(df[\"height\"])) < 3)]"
   ]
  },
  {
   "cell_type": "code",
   "execution_count": 59,
   "id": "1568a448",
   "metadata": {},
   "outputs": [
    {
     "data": {
      "image/png": "[encoded data removed]",
      "text/plain": [
       "<Figure size 720x504 with 1 Axes>"
      ]
     },
     "metadata": {
      "needs_background": "light"
     },
     "output_type": "display_data"
    }
   ],
   "source": [
    "fig = plt.figure(figsize =(10, 7))\n",
    "plt.boxplot(df[\"height\"],vert = 0)\n",
    "plt.show()"
   ]
  },
  {
   "cell_type": "markdown",
   "id": "e4cf8598",
   "metadata": {},
   "source": [
    "## Creating profile of cleaned data"
   ]
  },
  {
   "cell_type": "code",
   "execution_count": 138,
   "id": "30bacf3e",
   "metadata": {},
   "outputs": [
    {
     "name": "stderr",
     "output_type": "stream",
     "text": [
      "Summarize dataset: 100%|██████████| 76/76 [00:12<00:00,  6.25it/s, Completed]                             \n",
      "Generate report structure: 100%|██████████| 1/1 [00:04<00:00,  4.41s/it]\n",
      "Render HTML: 100%|██████████| 1/1 [00:01<00:00,  1.74s/it]\n",
      "Export report to file: 100%|██████████| 1/1 [00:00<00:00, 77.13it/s]\n"
     ]
    }
   ],
   "source": [
    "profile_clean = pf.ProfileReport(df)\n",
    "profile_clean\n",
    "profile_clean.to_file(\"../templates/AnalysisClean.html\")"
   ]
  },
  {
   "cell_type": "markdown",
   "id": "a571fc05",
   "metadata": {},
   "source": [
    "## Exploring Data after cleaning"
   ]
  },
  {
   "cell_type": "code",
   "execution_count": 60,
   "id": "7d3981b4",
   "metadata": {},
   "outputs": [
    {
     "data": {
      "text/plain": [
       "(67974, 13)"
      ]
     },
     "execution_count": 60,
     "metadata": {},
     "output_type": "execute_result"
    }
   ],
   "source": [
    "df.shape"
   ]
  },
  {
   "cell_type": "code",
   "execution_count": 61,
   "id": "9ae1d5ed",
   "metadata": {},
   "outputs": [
    {
     "data": {
      "text/html": [
       "<div>\n",
       "<style scoped>\n",
       "    .dataframe tbody tr th:only-of-type {\n",
       "        vertical-align: middle;\n",
       "    }\n",
       "\n",
       "    .dataframe tbody tr th {\n",
       "        vertical-align: top;\n",
       "    }\n",
       "\n",
       "    .dataframe thead th {\n",
       "        text-align: right;\n",
       "    }\n",
       "</style>\n",
       "<table border=\"1\" class=\"dataframe\">\n",
       "  <thead>\n",
       "    <tr style=\"text-align: right;\">\n",
       "      <th></th>\n",
       "      <th>age</th>\n",
       "      <th>gender</th>\n",
       "      <th>height</th>\n",
       "      <th>weight</th>\n",
       "      <th>ap_hi</th>\n",
       "      <th>ap_lo</th>\n",
       "      <th>pulse_pressure</th>\n",
       "      <th>cholesterol</th>\n",
       "      <th>gluc</th>\n",
       "      <th>smoke</th>\n",
       "      <th>alco</th>\n",
       "      <th>active</th>\n",
       "      <th>cardio</th>\n",
       "    </tr>\n",
       "  </thead>\n",
       "  <tbody>\n",
       "    <tr>\n",
       "      <th>count</th>\n",
       "      <td>67974.000000</td>\n",
       "      <td>67974.000000</td>\n",
       "      <td>67974.000000</td>\n",
       "      <td>67974.000000</td>\n",
       "      <td>67974.000000</td>\n",
       "      <td>67974.000000</td>\n",
       "      <td>67974.000000</td>\n",
       "      <td>67974.000000</td>\n",
       "      <td>67974.000000</td>\n",
       "      <td>67974.000000</td>\n",
       "      <td>67974.000000</td>\n",
       "      <td>67974.000000</td>\n",
       "      <td>67974.000000</td>\n",
       "    </tr>\n",
       "    <tr>\n",
       "      <th>mean</th>\n",
       "      <td>19473.104805</td>\n",
       "      <td>1.348104</td>\n",
       "      <td>164.375099</td>\n",
       "      <td>73.653507</td>\n",
       "      <td>126.938006</td>\n",
       "      <td>81.567320</td>\n",
       "      <td>45.370686</td>\n",
       "      <td>1.364522</td>\n",
       "      <td>1.223968</td>\n",
       "      <td>0.087313</td>\n",
       "      <td>0.053197</td>\n",
       "      <td>0.804484</td>\n",
       "      <td>0.497558</td>\n",
       "    </tr>\n",
       "    <tr>\n",
       "      <th>std</th>\n",
       "      <td>2466.588362</td>\n",
       "      <td>0.476373</td>\n",
       "      <td>7.696455</td>\n",
       "      <td>13.227333</td>\n",
       "      <td>16.881247</td>\n",
       "      <td>9.606756</td>\n",
       "      <td>11.613279</td>\n",
       "      <td>0.678778</td>\n",
       "      <td>0.569766</td>\n",
       "      <td>0.282295</td>\n",
       "      <td>0.224427</td>\n",
       "      <td>0.396600</td>\n",
       "      <td>0.499998</td>\n",
       "    </tr>\n",
       "    <tr>\n",
       "      <th>min</th>\n",
       "      <td>10798.000000</td>\n",
       "      <td>1.000000</td>\n",
       "      <td>140.000000</td>\n",
       "      <td>32.000000</td>\n",
       "      <td>80.000000</td>\n",
       "      <td>60.000000</td>\n",
       "      <td>10.000000</td>\n",
       "      <td>1.000000</td>\n",
       "      <td>1.000000</td>\n",
       "      <td>0.000000</td>\n",
       "      <td>0.000000</td>\n",
       "      <td>0.000000</td>\n",
       "      <td>0.000000</td>\n",
       "    </tr>\n",
       "    <tr>\n",
       "      <th>25%</th>\n",
       "      <td>17670.000000</td>\n",
       "      <td>1.000000</td>\n",
       "      <td>159.000000</td>\n",
       "      <td>65.000000</td>\n",
       "      <td>120.000000</td>\n",
       "      <td>80.000000</td>\n",
       "      <td>40.000000</td>\n",
       "      <td>1.000000</td>\n",
       "      <td>1.000000</td>\n",
       "      <td>0.000000</td>\n",
       "      <td>0.000000</td>\n",
       "      <td>1.000000</td>\n",
       "      <td>0.000000</td>\n",
       "    </tr>\n",
       "    <tr>\n",
       "      <th>50%</th>\n",
       "      <td>19706.000000</td>\n",
       "      <td>1.000000</td>\n",
       "      <td>165.000000</td>\n",
       "      <td>72.000000</td>\n",
       "      <td>120.000000</td>\n",
       "      <td>80.000000</td>\n",
       "      <td>40.000000</td>\n",
       "      <td>1.000000</td>\n",
       "      <td>1.000000</td>\n",
       "      <td>0.000000</td>\n",
       "      <td>0.000000</td>\n",
       "      <td>1.000000</td>\n",
       "      <td>0.000000</td>\n",
       "    </tr>\n",
       "    <tr>\n",
       "      <th>75%</th>\n",
       "      <td>21329.000000</td>\n",
       "      <td>2.000000</td>\n",
       "      <td>170.000000</td>\n",
       "      <td>82.000000</td>\n",
       "      <td>140.000000</td>\n",
       "      <td>90.000000</td>\n",
       "      <td>50.000000</td>\n",
       "      <td>1.000000</td>\n",
       "      <td>1.000000</td>\n",
       "      <td>0.000000</td>\n",
       "      <td>0.000000</td>\n",
       "      <td>1.000000</td>\n",
       "      <td>1.000000</td>\n",
       "    </tr>\n",
       "    <tr>\n",
       "      <th>max</th>\n",
       "      <td>23713.000000</td>\n",
       "      <td>2.000000</td>\n",
       "      <td>188.000000</td>\n",
       "      <td>117.000000</td>\n",
       "      <td>240.000000</td>\n",
       "      <td>200.000000</td>\n",
       "      <td>120.000000</td>\n",
       "      <td>3.000000</td>\n",
       "      <td>3.000000</td>\n",
       "      <td>1.000000</td>\n",
       "      <td>1.000000</td>\n",
       "      <td>1.000000</td>\n",
       "      <td>1.000000</td>\n",
       "    </tr>\n",
       "  </tbody>\n",
       "</table>\n",
       "</div>"
      ],
      "text/plain": [
       "                age        gender        height        weight         ap_hi  \\\n",
       "count  67974.000000  67974.000000  67974.000000  67974.000000  67974.000000   \n",
       "mean   19473.104805      1.348104    164.375099     73.653507    126.938006   \n",
       "std     2466.588362      0.476373      7.696455     13.227333     16.881247   \n",
       "min    10798.000000      1.000000    140.000000     32.000000     80.000000   \n",
       "25%    17670.000000      1.000000    159.000000     65.000000    120.000000   \n",
       "50%    19706.000000      1.000000    165.000000     72.000000    120.000000   \n",
       "75%    21329.000000      2.000000    170.000000     82.000000    140.000000   \n",
       "max    23713.000000      2.000000    188.000000    117.000000    240.000000   \n",
       "\n",
       "              ap_lo  pulse_pressure   cholesterol          gluc         smoke  \\\n",
       "count  67974.000000    67974.000000  67974.000000  67974.000000  67974.000000   \n",
       "mean      81.567320       45.370686      1.364522      1.223968      0.087313   \n",
       "std        9.606756       11.613279      0.678778      0.569766      0.282295   \n",
       "min       60.000000       10.000000      1.000000      1.000000      0.000000   \n",
       "25%       80.000000       40.000000      1.000000      1.000000      0.000000   \n",
       "50%       80.000000       40.000000      1.000000      1.000000      0.000000   \n",
       "75%       90.000000       50.000000      1.000000      1.000000      0.000000   \n",
       "max      200.000000      120.000000      3.000000      3.000000      1.000000   \n",
       "\n",
       "               alco        active        cardio  \n",
       "count  67974.000000  67974.000000  67974.000000  \n",
       "mean       0.053197      0.804484      0.497558  \n",
       "std        0.224427      0.396600      0.499998  \n",
       "min        0.000000      0.000000      0.000000  \n",
       "25%        0.000000      1.000000      0.000000  \n",
       "50%        0.000000      1.000000      0.000000  \n",
       "75%        0.000000      1.000000      1.000000  \n",
       "max        1.000000      1.000000      1.000000  "
      ]
     },
     "execution_count": 61,
     "metadata": {},
     "output_type": "execute_result"
    }
   ],
   "source": [
    "df.describe()"
   ]
  },
  {
   "cell_type": "code",
   "execution_count": 62,
   "id": "dffa1c8d",
   "metadata": {},
   "outputs": [
    {
     "name": "stdout",
     "output_type": "stream",
     "text": [
      "<class 'pandas.core.frame.DataFrame'>\n",
      "Int64Index: 67974 entries, 0 to 69300\n",
      "Data columns (total 13 columns):\n",
      " #   Column          Non-Null Count  Dtype  \n",
      "---  ------          --------------  -----  \n",
      " 0   age             67974 non-null  int64  \n",
      " 1   gender          67974 non-null  int64  \n",
      " 2   height          67974 non-null  int64  \n",
      " 3   weight          67974 non-null  float64\n",
      " 4   ap_hi           67974 non-null  int64  \n",
      " 5   ap_lo           67974 non-null  int64  \n",
      " 6   pulse_pressure  67974 non-null  int64  \n",
      " 7   cholesterol     67974 non-null  int64  \n",
      " 8   gluc            67974 non-null  int64  \n",
      " 9   smoke           67974 non-null  int64  \n",
      " 10  alco            67974 non-null  int64  \n",
      " 11  active          67974 non-null  int64  \n",
      " 12  cardio          67974 non-null  int64  \n",
      "dtypes: float64(1), int64(12)\n",
      "memory usage: 7.3 MB\n"
     ]
    }
   ],
   "source": [
    "df.info()"
   ]
  },
  {
   "cell_type": "code",
   "execution_count": 63,
   "id": "76fae76e",
   "metadata": {},
   "outputs": [],
   "source": [
    "cardio_count=df[\"cardio\"].value_counts()\n",
    "cario_percent = ( df[\"cardio\"].value_counts() / df['cardio'].count()) * 100"
   ]
  },
  {
   "cell_type": "code",
   "execution_count": 64,
   "id": "72f4addd",
   "metadata": {},
   "outputs": [
    {
     "data": {
      "image/png": "[encoded data removed]",
      "text/plain": [
       "<Figure size 720x432 with 1 Axes>"
      ]
     },
     "metadata": {},
     "output_type": "display_data"
    }
   ],
   "source": [
    "fig = plt.figure(figsize=(10,6),facecolor='#00c3b1')\n",
    "ax = fig.add_subplot(1, 1, 1)\n",
    "\n",
    "ax.set_facecolor(\"#00c3b1\")\n",
    "\n",
    "colors_list = ['#0074c3','#00c350']\n",
    "graph = plt.bar([\"Without CardioVascular\",\"With CardioVascular\"],cardio_count, color = colors_list)\n",
    "plt.title('Percentage of CardioVascular Disease in data')\n",
    "\n",
    "i = 0\n",
    "for p in graph:\n",
    "    width = p.get_width()\n",
    "    height = p.get_height()\n",
    "    x, y = p.get_xy()\n",
    "    plt.text(x+width/2,y+height*1.01,str(cario_percent[i])+'%',ha='center',weight='bold')\n",
    "    i+=1\n",
    "    \n",
    "plt.show()"
   ]
  },
  {
   "cell_type": "code",
   "execution_count": 65,
   "id": "2a6cb6ca",
   "metadata": {},
   "outputs": [
    {
     "name": "stderr",
     "output_type": "stream",
     "text": [
      "C:\\Users\\Lenovo\\AppData\\Local\\Temp\\ipykernel_13132\\2936690794.py:3: UserWarning: To output multiple subplots, the figure containing the passed axes is being cleared\n",
      "  df.hist(ax=ax);\n"
     ]
    },
    {
     "data": {
      "image/png": "[encoded data removed]",
      "text/plain": [
       "<Figure size 720x720 with 16 Axes>"
      ]
     },
     "metadata": {
      "needs_background": "light"
     },
     "output_type": "display_data"
    }
   ],
   "source": [
    "fig= plt.figure(figsize=(10,10))\n",
    "ax= fig.gca()\n",
    "df.hist(ax=ax);"
   ]
  },
  {
   "cell_type": "code",
   "execution_count": 66,
   "id": "47e06024",
   "metadata": {},
   "outputs": [
    {
     "data": {
      "image/png": "[encoded data removed]",
      "text/plain": [
       "<Figure size 720x720 with 2 Axes>"
      ]
     },
     "metadata": {
      "needs_background": "light"
     },
     "output_type": "display_data"
    }
   ],
   "source": [
    "plt.figure(figsize=(10,10))\n",
    "cor = df.corr()\n",
    "sns.heatmap(cor, annot=True, fmt=\".0%\",cmap=\"YlGnBu\")\n",
    "plt.show()"
   ]
  },
  {
   "cell_type": "code",
   "execution_count": 67,
   "id": "4d74ca2c",
   "metadata": {},
   "outputs": [
    {
     "data": {
      "text/html": [
       "<div>\n",
       "<style scoped>\n",
       "    .dataframe tbody tr th:only-of-type {\n",
       "        vertical-align: middle;\n",
       "    }\n",
       "\n",
       "    .dataframe tbody tr th {\n",
       "        vertical-align: top;\n",
       "    }\n",
       "\n",
       "    .dataframe thead th {\n",
       "        text-align: right;\n",
       "    }\n",
       "</style>\n",
       "<table border=\"1\" class=\"dataframe\">\n",
       "  <thead>\n",
       "    <tr style=\"text-align: right;\">\n",
       "      <th></th>\n",
       "      <th>age</th>\n",
       "      <th>gender</th>\n",
       "      <th>height</th>\n",
       "      <th>weight</th>\n",
       "      <th>ap_hi</th>\n",
       "      <th>ap_lo</th>\n",
       "      <th>pulse_pressure</th>\n",
       "      <th>cholesterol</th>\n",
       "      <th>gluc</th>\n",
       "      <th>smoke</th>\n",
       "      <th>alco</th>\n",
       "      <th>active</th>\n",
       "      <th>cardio</th>\n",
       "    </tr>\n",
       "  </thead>\n",
       "  <tbody>\n",
       "    <tr>\n",
       "      <th>age</th>\n",
       "      <td>1.000000</td>\n",
       "      <td>-0.022461</td>\n",
       "      <td>-0.086851</td>\n",
       "      <td>0.064180</td>\n",
       "      <td>0.209583</td>\n",
       "      <td>0.157829</td>\n",
       "      <td>0.174094</td>\n",
       "      <td>0.155423</td>\n",
       "      <td>0.098989</td>\n",
       "      <td>-0.046652</td>\n",
       "      <td>-0.028324</td>\n",
       "      <td>-0.010321</td>\n",
       "      <td>0.240394</td>\n",
       "    </tr>\n",
       "    <tr>\n",
       "      <th>gender</th>\n",
       "      <td>-0.022461</td>\n",
       "      <td>1.000000</td>\n",
       "      <td>0.522952</td>\n",
       "      <td>0.162531</td>\n",
       "      <td>0.062388</td>\n",
       "      <td>0.066747</td>\n",
       "      <td>0.035474</td>\n",
       "      <td>-0.036776</td>\n",
       "      <td>-0.021981</td>\n",
       "      <td>0.337387</td>\n",
       "      <td>0.169980</td>\n",
       "      <td>0.007421</td>\n",
       "      <td>0.007028</td>\n",
       "    </tr>\n",
       "    <tr>\n",
       "      <th>height</th>\n",
       "      <td>-0.086851</td>\n",
       "      <td>0.522952</td>\n",
       "      <td>1.000000</td>\n",
       "      <td>0.312613</td>\n",
       "      <td>0.009696</td>\n",
       "      <td>0.026631</td>\n",
       "      <td>-0.007935</td>\n",
       "      <td>-0.058902</td>\n",
       "      <td>-0.022748</td>\n",
       "      <td>0.194815</td>\n",
       "      <td>0.096020</td>\n",
       "      <td>-0.006979</td>\n",
       "      <td>-0.017044</td>\n",
       "    </tr>\n",
       "    <tr>\n",
       "      <th>weight</th>\n",
       "      <td>0.064180</td>\n",
       "      <td>0.162531</td>\n",
       "      <td>0.312613</td>\n",
       "      <td>1.000000</td>\n",
       "      <td>0.265767</td>\n",
       "      <td>0.249969</td>\n",
       "      <td>0.179543</td>\n",
       "      <td>0.139161</td>\n",
       "      <td>0.099023</td>\n",
       "      <td>0.066847</td>\n",
       "      <td>0.066244</td>\n",
       "      <td>-0.016327</td>\n",
       "      <td>0.180108</td>\n",
       "    </tr>\n",
       "    <tr>\n",
       "      <th>ap_hi</th>\n",
       "      <td>0.209583</td>\n",
       "      <td>0.062388</td>\n",
       "      <td>0.009696</td>\n",
       "      <td>0.265767</td>\n",
       "      <td>1.000000</td>\n",
       "      <td>0.747339</td>\n",
       "      <td>0.835401</td>\n",
       "      <td>0.195303</td>\n",
       "      <td>0.091378</td>\n",
       "      <td>0.027389</td>\n",
       "      <td>0.034627</td>\n",
       "      <td>0.001475</td>\n",
       "      <td>0.432278</td>\n",
       "    </tr>\n",
       "    <tr>\n",
       "      <th>ap_lo</th>\n",
       "      <td>0.157829</td>\n",
       "      <td>0.066747</td>\n",
       "      <td>0.026631</td>\n",
       "      <td>0.249969</td>\n",
       "      <td>0.747339</td>\n",
       "      <td>1.000000</td>\n",
       "      <td>0.259123</td>\n",
       "      <td>0.162374</td>\n",
       "      <td>0.071135</td>\n",
       "      <td>0.025296</td>\n",
       "      <td>0.036360</td>\n",
       "      <td>0.003420</td>\n",
       "      <td>0.348534</td>\n",
       "    </tr>\n",
       "    <tr>\n",
       "      <th>pulse_pressure</th>\n",
       "      <td>0.174094</td>\n",
       "      <td>0.035474</td>\n",
       "      <td>-0.007935</td>\n",
       "      <td>0.179543</td>\n",
       "      <td>0.835401</td>\n",
       "      <td>0.259123</td>\n",
       "      <td>1.000000</td>\n",
       "      <td>0.149577</td>\n",
       "      <td>0.073984</td>\n",
       "      <td>0.018888</td>\n",
       "      <td>0.020256</td>\n",
       "      <td>-0.000685</td>\n",
       "      <td>0.340052</td>\n",
       "    </tr>\n",
       "    <tr>\n",
       "      <th>cholesterol</th>\n",
       "      <td>0.155423</td>\n",
       "      <td>-0.036776</td>\n",
       "      <td>-0.058902</td>\n",
       "      <td>0.139161</td>\n",
       "      <td>0.195303</td>\n",
       "      <td>0.162374</td>\n",
       "      <td>0.149577</td>\n",
       "      <td>1.000000</td>\n",
       "      <td>0.450031</td>\n",
       "      <td>0.009487</td>\n",
       "      <td>0.034852</td>\n",
       "      <td>0.009809</td>\n",
       "      <td>0.220359</td>\n",
       "    </tr>\n",
       "    <tr>\n",
       "      <th>gluc</th>\n",
       "      <td>0.098989</td>\n",
       "      <td>-0.021981</td>\n",
       "      <td>-0.022748</td>\n",
       "      <td>0.099023</td>\n",
       "      <td>0.091378</td>\n",
       "      <td>0.071135</td>\n",
       "      <td>0.073984</td>\n",
       "      <td>0.450031</td>\n",
       "      <td>1.000000</td>\n",
       "      <td>-0.006426</td>\n",
       "      <td>0.008414</td>\n",
       "      <td>-0.007778</td>\n",
       "      <td>0.087697</td>\n",
       "    </tr>\n",
       "    <tr>\n",
       "      <th>smoke</th>\n",
       "      <td>-0.046652</td>\n",
       "      <td>0.337387</td>\n",
       "      <td>0.194815</td>\n",
       "      <td>0.066847</td>\n",
       "      <td>0.027389</td>\n",
       "      <td>0.025296</td>\n",
       "      <td>0.018888</td>\n",
       "      <td>0.009487</td>\n",
       "      <td>-0.006426</td>\n",
       "      <td>1.000000</td>\n",
       "      <td>0.340719</td>\n",
       "      <td>0.026463</td>\n",
       "      <td>-0.016052</td>\n",
       "    </tr>\n",
       "    <tr>\n",
       "      <th>alco</th>\n",
       "      <td>-0.028324</td>\n",
       "      <td>0.169980</td>\n",
       "      <td>0.096020</td>\n",
       "      <td>0.066244</td>\n",
       "      <td>0.034627</td>\n",
       "      <td>0.036360</td>\n",
       "      <td>0.020256</td>\n",
       "      <td>0.034852</td>\n",
       "      <td>0.008414</td>\n",
       "      <td>0.340719</td>\n",
       "      <td>1.000000</td>\n",
       "      <td>0.025452</td>\n",
       "      <td>-0.008020</td>\n",
       "    </tr>\n",
       "    <tr>\n",
       "      <th>active</th>\n",
       "      <td>-0.010321</td>\n",
       "      <td>0.007421</td>\n",
       "      <td>-0.006979</td>\n",
       "      <td>-0.016327</td>\n",
       "      <td>0.001475</td>\n",
       "      <td>0.003420</td>\n",
       "      <td>-0.000685</td>\n",
       "      <td>0.009809</td>\n",
       "      <td>-0.007778</td>\n",
       "      <td>0.026463</td>\n",
       "      <td>0.025452</td>\n",
       "      <td>1.000000</td>\n",
       "      <td>-0.036832</td>\n",
       "    </tr>\n",
       "    <tr>\n",
       "      <th>cardio</th>\n",
       "      <td>0.240394</td>\n",
       "      <td>0.007028</td>\n",
       "      <td>-0.017044</td>\n",
       "      <td>0.180108</td>\n",
       "      <td>0.432278</td>\n",
       "      <td>0.348534</td>\n",
       "      <td>0.340052</td>\n",
       "      <td>0.220359</td>\n",
       "      <td>0.087697</td>\n",
       "      <td>-0.016052</td>\n",
       "      <td>-0.008020</td>\n",
       "      <td>-0.036832</td>\n",
       "      <td>1.000000</td>\n",
       "    </tr>\n",
       "  </tbody>\n",
       "</table>\n",
       "</div>"
      ],
      "text/plain": [
       "                     age    gender    height    weight     ap_hi     ap_lo  \\\n",
       "age             1.000000 -0.022461 -0.086851  0.064180  0.209583  0.157829   \n",
       "gender         -0.022461  1.000000  0.522952  0.162531  0.062388  0.066747   \n",
       "height         -0.086851  0.522952  1.000000  0.312613  0.009696  0.026631   \n",
       "weight          0.064180  0.162531  0.312613  1.000000  0.265767  0.249969   \n",
       "ap_hi           0.209583  0.062388  0.009696  0.265767  1.000000  0.747339   \n",
       "ap_lo           0.157829  0.066747  0.026631  0.249969  0.747339  1.000000   \n",
       "pulse_pressure  0.174094  0.035474 -0.007935  0.179543  0.835401  0.259123   \n",
       "cholesterol     0.155423 -0.036776 -0.058902  0.139161  0.195303  0.162374   \n",
       "gluc            0.098989 -0.021981 -0.022748  0.099023  0.091378  0.071135   \n",
       "smoke          -0.046652  0.337387  0.194815  0.066847  0.027389  0.025296   \n",
       "alco           -0.028324  0.169980  0.096020  0.066244  0.034627  0.036360   \n",
       "active         -0.010321  0.007421 -0.006979 -0.016327  0.001475  0.003420   \n",
       "cardio          0.240394  0.007028 -0.017044  0.180108  0.432278  0.348534   \n",
       "\n",
       "                pulse_pressure  cholesterol      gluc     smoke      alco  \\\n",
       "age                   0.174094     0.155423  0.098989 -0.046652 -0.028324   \n",
       "gender                0.035474    -0.036776 -0.021981  0.337387  0.169980   \n",
       "height               -0.007935    -0.058902 -0.022748  0.194815  0.096020   \n",
       "weight                0.179543     0.139161  0.099023  0.066847  0.066244   \n",
       "ap_hi                 0.835401     0.195303  0.091378  0.027389  0.034627   \n",
       "ap_lo                 0.259123     0.162374  0.071135  0.025296  0.036360   \n",
       "pulse_pressure        1.000000     0.149577  0.073984  0.018888  0.020256   \n",
       "cholesterol           0.149577     1.000000  0.450031  0.009487  0.034852   \n",
       "gluc                  0.073984     0.450031  1.000000 -0.006426  0.008414   \n",
       "smoke                 0.018888     0.009487 -0.006426  1.000000  0.340719   \n",
       "alco                  0.020256     0.034852  0.008414  0.340719  1.000000   \n",
       "active               -0.000685     0.009809 -0.007778  0.026463  0.025452   \n",
       "cardio                0.340052     0.220359  0.087697 -0.016052 -0.008020   \n",
       "\n",
       "                  active    cardio  \n",
       "age            -0.010321  0.240394  \n",
       "gender          0.007421  0.007028  \n",
       "height         -0.006979 -0.017044  \n",
       "weight         -0.016327  0.180108  \n",
       "ap_hi           0.001475  0.432278  \n",
       "ap_lo           0.003420  0.348534  \n",
       "pulse_pressure -0.000685  0.340052  \n",
       "cholesterol     0.009809  0.220359  \n",
       "gluc           -0.007778  0.087697  \n",
       "smoke           0.026463 -0.016052  \n",
       "alco            0.025452 -0.008020  \n",
       "active          1.000000 -0.036832  \n",
       "cardio         -0.036832  1.000000  "
      ]
     },
     "execution_count": 67,
     "metadata": {},
     "output_type": "execute_result"
    }
   ],
   "source": [
    "cor"
   ]
  },
  {
   "cell_type": "markdown",
   "id": "81f076c7",
   "metadata": {},
   "source": [
    "## Data Spliting"
   ]
  },
  {
   "cell_type": "code",
   "execution_count": 147,
   "id": "c0ca8c62",
   "metadata": {},
   "outputs": [],
   "source": [
    "# Exporting Clean data\n",
    "# df.to_csv('Data/clean_data.csv')"
   ]
  },
  {
   "cell_type": "code",
   "execution_count": 68,
   "id": "acb39cc0",
   "metadata": {},
   "outputs": [],
   "source": [
    "X=df[[\"age\",\"gender\", \"height\" , \"weight\" ,\"ap_hi\", 'ap_lo','pulse_pressure' ,'cholesterol', 'gluc', 'smoke', 'alco', 'active']]\n",
    "y=df[\"cardio\"]\n",
    "X_train, X_test, y_train, y_test  = train_test_split(X, y,test_size=0.2, random_state=33)"
   ]
  },
  {
   "cell_type": "code",
   "execution_count": 69,
   "id": "84d04971",
   "metadata": {},
   "outputs": [
    {
     "data": {
      "text/plain": [
       "(54379, 12)"
      ]
     },
     "execution_count": 69,
     "metadata": {},
     "output_type": "execute_result"
    }
   ],
   "source": [
    "X_train.shape"
   ]
  },
  {
   "cell_type": "code",
   "execution_count": 70,
   "id": "79e85bc4",
   "metadata": {},
   "outputs": [
    {
     "data": {
      "text/plain": [
       "(13595, 12)"
      ]
     },
     "execution_count": 70,
     "metadata": {},
     "output_type": "execute_result"
    }
   ],
   "source": [
    "X_test.shape"
   ]
  },
  {
   "cell_type": "code",
   "execution_count": 71,
   "id": "4e3ad5d5",
   "metadata": {},
   "outputs": [],
   "source": [
    "train, test= train_test_split(df,test_size=0.2, random_state=33)"
   ]
  },
  {
   "cell_type": "code",
   "execution_count": 72,
   "id": "5bfe9463",
   "metadata": {},
   "outputs": [
    {
     "data": {
      "text/plain": [
       "(13595, 13)"
      ]
     },
     "execution_count": 72,
     "metadata": {},
     "output_type": "execute_result"
    }
   ],
   "source": [
    "test.shape"
   ]
  },
  {
   "cell_type": "code",
   "execution_count": 153,
   "id": "a23c5f35",
   "metadata": {},
   "outputs": [],
   "source": [
    "# Exporting TEST data\n",
    "# test.to_csv('Data/test.csv')"
   ]
  },
  {
   "cell_type": "markdown",
   "id": "2abdaaf1",
   "metadata": {},
   "source": [
    "# Model Training"
   ]
  },
  {
   "cell_type": "markdown",
   "id": "5a69b0a3",
   "metadata": {},
   "source": [
    "## Searching for best parameters by GRID SEARCH"
   ]
  },
  {
   "cell_type": "code",
   "execution_count": 154,
   "id": "edb9ba7a",
   "metadata": {},
   "outputs": [],
   "source": [
    "rf_Model = RandomForestClassifier(criterion = 'gini')"
   ]
  },
  {
   "cell_type": "code",
   "execution_count": 155,
   "id": "1de31221",
   "metadata": {},
   "outputs": [],
   "source": [
    "# Number of trees in random forest\n",
    "n_estimators = [int(x) for x in np.linspace(start = 10, stop = 120, num = 10)]\n",
    "# Number of features to consider at every split\n",
    "# max_features = ['auto']\n",
    "# Maximum number of levels in tree\n",
    "max_depth = [int(x) for x in np.linspace(start = 1, stop = 30, num = 2)]\n",
    "# Minimum number of samples required to split a node\n",
    "min_samples_split = [int(x) for x in np.linspace(start = 1, stop = 15, num = 2)]\n",
    "# Minimum number of samples required at each leaf node\n",
    "min_samples_leaf = [int(x) for x in np.linspace(start = 1, stop = 30, num = 2)]\n",
    "# Method of selecting samples for training each tree\n",
    "# bootstrap = [True, False]\n",
    "bootstrap = [True]"
   ]
  },
  {
   "cell_type": "code",
   "execution_count": 156,
   "id": "83db1a67",
   "metadata": {},
   "outputs": [
    {
     "name": "stdout",
     "output_type": "stream",
     "text": [
      "{'n_estimators': [10, 22, 34, 46, 58, 71, 83, 95, 107, 120], 'max_depth': [1, 30], 'min_samples_split': [1, 15], 'min_samples_leaf': [1, 30], 'bootstrap': [True]}\n"
     ]
    }
   ],
   "source": [
    "# Create the param grid\n",
    "param_grid = {'n_estimators': n_estimators,\n",
    "               'max_depth': max_depth,\n",
    "               'min_samples_split': min_samples_split,\n",
    "               'min_samples_leaf': min_samples_leaf,\n",
    "               'bootstrap': bootstrap}\n",
    "print(param_grid)"
   ]
  },
  {
   "cell_type": "code",
   "execution_count": 157,
   "id": "37f2a79c",
   "metadata": {},
   "outputs": [],
   "source": [
    "from sklearn.model_selection import GridSearchCV\n",
    "rf_Grid = GridSearchCV(estimator = rf_Model, param_grid = param_grid, cv = 10, verbose=2, n_jobs = 4)"
   ]
  },
  {
   "cell_type": "code",
   "execution_count": 158,
   "id": "3622b3c6",
   "metadata": {},
   "outputs": [],
   "source": [
    "# rf_Grid.fit(X_train, y_train)"
   ]
  },
  {
   "cell_type": "code",
   "execution_count": 159,
   "id": "dbdedc70",
   "metadata": {},
   "outputs": [],
   "source": [
    "# rf_Grid.best_params_"
   ]
  },
  {
   "cell_type": "code",
   "execution_count": 160,
   "id": "99099135",
   "metadata": {},
   "outputs": [],
   "source": [
    "# print (f'Train Accuracy - : {rf_Grid.score(X_train,y_train):.3f}')\n",
    "# print (f'Test Accuracy - : {rf_Grid.score(X_test,y_test):.3f}')"
   ]
  },
  {
   "cell_type": "markdown",
   "id": "13231d5b",
   "metadata": {},
   "source": [
    "## Final Model"
   ]
  },
  {
   "cell_type": "code",
   "execution_count": 73,
   "id": "da9bd596",
   "metadata": {},
   "outputs": [
    {
     "name": "stdout",
     "output_type": "stream",
     "text": [
      "Score is:  0.7403457153365208\n"
     ]
    }
   ],
   "source": [
    "forest_model_classification = RandomForestClassifier(n_estimators = 58,max_depth=30,min_samples_leaf=30 ,min_samples_split=15,bootstrap= True,criterion = 'gini', n_jobs = -1,random_state=20)\n",
    "forest_model_classification.fit(X_train.values , y_train.values)\n",
    "y_pred = forest_model_classification.predict(X_test.values)   \n",
    "score=metrics.accuracy_score(y_test.values , y_pred )\n",
    "print(\"Score is: \", score)"
   ]
  },
  {
   "cell_type": "code",
   "execution_count": 74,
   "id": "8d3ea51f",
   "metadata": {},
   "outputs": [
    {
     "name": "stdout",
     "output_type": "stream",
     "text": [
      "Train Accuracy - : 0.748\n",
      "Test Accuracy - : 0.740\n"
     ]
    }
   ],
   "source": [
    "print (f'Train Accuracy - : {forest_model_classification.score(X_train.values,y_train.values):.3f}')\n",
    "print (f'Test Accuracy - : {forest_model_classification.score(X_test.values,y_test.values):.3f}')"
   ]
  },
  {
   "cell_type": "code",
   "execution_count": 75,
   "id": "5c1417d1",
   "metadata": {},
   "outputs": [
    {
     "name": "stdout",
     "output_type": "stream",
     "text": [
      "[[5438 1489]\n",
      " [2041 4627]]\n"
     ]
    }
   ],
   "source": [
    "cm=metrics.confusion_matrix(y_test, y_pred)\n",
    "print(cm)"
   ]
  },
  {
   "cell_type": "code",
   "execution_count": 76,
   "id": "6037d1ce",
   "metadata": {},
   "outputs": [
    {
     "data": {
      "image/png": "[encoded data removed]",
      "text/plain": [
       "<Figure size 432x288 with 2 Axes>"
      ]
     },
     "metadata": {
      "needs_background": "light"
     },
     "output_type": "display_data"
    }
   ],
   "source": [
    "sns.heatmap(cm, center = True, annot=True, fmt=\"d\")\n",
    "plt.show()"
   ]
  },
  {
   "cell_type": "code",
   "execution_count": 77,
   "id": "50b5ff04",
   "metadata": {},
   "outputs": [
    {
     "data": {
      "text/plain": [
       "array([0.14446209, 0.00476664, 0.02414378, 0.04775689, 0.39346342,\n",
       "       0.13801772, 0.14854146, 0.07699823, 0.0092661 , 0.00341498,\n",
       "       0.00190513, 0.00726356])"
      ]
     },
     "execution_count": 77,
     "metadata": {},
     "output_type": "execute_result"
    }
   ],
   "source": [
    "forest_model_classification.feature_importances_"
   ]
  },
  {
   "cell_type": "code",
   "execution_count": 78,
   "id": "e163c974",
   "metadata": {},
   "outputs": [
    {
     "data": {
      "text/plain": [
       "array([0, 1], dtype=int64)"
      ]
     },
     "execution_count": 78,
     "metadata": {},
     "output_type": "execute_result"
    }
   ],
   "source": [
    "forest_model_classification.classes_"
   ]
  },
  {
   "cell_type": "markdown",
   "id": "e992e260",
   "metadata": {},
   "source": [
    "## Exporting Model "
   ]
  },
  {
   "cell_type": "code",
   "execution_count": null,
   "id": "b8bdfdef",
   "metadata": {},
   "outputs": [],
   "source": [
    "#Exporting Model \n",
    "pickle.dump(forest_model_classification,open('RandomModelClassifier.pkl',\"wb\"))"
   ]
  },
  {
   "cell_type": "markdown",
   "id": "9e893bbf",
   "metadata": {},
   "source": [
    "### Predicting some values"
   ]
  },
  {
   "cell_type": "code",
   "execution_count": 167,
   "id": "2d561cf0",
   "metadata": {},
   "outputs": [
    {
     "data": {
      "text/plain": [
       "array([1], dtype=int64)"
      ]
     },
     "execution_count": 167,
     "metadata": {},
     "output_type": "execute_result"
    }
   ],
   "source": [
    "forest_model_classification.predict(np.array([18783,2,168,88,160,80,40,1,1,1,0,1]).reshape(1,-1))"
   ]
  },
  {
   "cell_type": "code",
   "execution_count": 168,
   "id": "3f0e9b75",
   "metadata": {},
   "outputs": [
    {
     "data": {
      "text/plain": [
       "array([[0.36526444, 0.63473556]])"
      ]
     },
     "execution_count": 168,
     "metadata": {},
     "output_type": "execute_result"
    }
   ],
   "source": [
    "prob=forest_model_classification.predict_proba(np.array([18783,2,168,88,160,80,40,1,1,1,0,1]).reshape(1,-1))\n",
    "prob"
   ]
  },
  {
   "cell_type": "code",
   "execution_count": 169,
   "id": "b1a6e063",
   "metadata": {},
   "outputs": [
    {
     "data": {
      "text/plain": [
       "[20411.0, 1.0, 168.0, 86.0, 120.0, 80.0, 40.0, 1.0, 1.0, 0.0, 0.0, 1.0]"
      ]
     },
     "execution_count": 169,
     "metadata": {},
     "output_type": "execute_result"
    }
   ],
   "source": [
    "test5=X_test.iloc[5].values.tolist()\n",
    "test5"
   ]
  },
  {
   "cell_type": "code",
   "execution_count": 170,
   "id": "ab487277",
   "metadata": {},
   "outputs": [
    {
     "data": {
      "text/plain": [
       "0"
      ]
     },
     "execution_count": 170,
     "metadata": {},
     "output_type": "execute_result"
    }
   ],
   "source": [
    "y_test.iloc[5]"
   ]
  },
  {
   "cell_type": "code",
   "execution_count": 171,
   "id": "7a442cf6",
   "metadata": {},
   "outputs": [
    {
     "data": {
      "text/plain": [
       "array([0], dtype=int64)"
      ]
     },
     "execution_count": 171,
     "metadata": {},
     "output_type": "execute_result"
    }
   ],
   "source": [
    "forest_model_classification.predict(np.array(test5).reshape(1,-1))"
   ]
  },
  {
   "cell_type": "code",
   "execution_count": 172,
   "id": "7a918bb7",
   "metadata": {},
   "outputs": [
    {
     "data": {
      "text/plain": [
       "array([[0.63251094, 0.36748906]])"
      ]
     },
     "execution_count": 172,
     "metadata": {},
     "output_type": "execute_result"
    }
   ],
   "source": [
    "prob=forest_model_classification.predict_proba(np.array(test5).reshape(1,-1))\n",
    "prob"
   ]
  },
  {
   "cell_type": "code",
   "execution_count": 186,
   "id": "b1a6e063",
   "metadata": {},
   "outputs": [
    {
     "data": {
      "text/plain": [
       "[22807.0, 1.0, 163.0, 76.0, 140.0, 80.0, 60.0, 1.0, 1.0, 0.0, 0.0, 1.0]"
      ]
     },
     "execution_count": 186,
     "metadata": {},
     "output_type": "execute_result"
    }
   ],
   "source": [
    "test50=X_test.iloc[50].values.tolist()\n",
    "test50"
   ]
  },
  {
   "cell_type": "code",
   "execution_count": 187,
   "id": "ab487277",
   "metadata": {},
   "outputs": [
    {
     "data": {
      "text/plain": [
       "1"
      ]
     },
     "execution_count": 187,
     "metadata": {},
     "output_type": "execute_result"
    }
   ],
   "source": [
    "y_test.iloc[50]"
   ]
  },
  {
   "cell_type": "code",
   "execution_count": 188,
   "id": "7a442cf6",
   "metadata": {},
   "outputs": [
    {
     "data": {
      "text/plain": [
       "array([1], dtype=int64)"
      ]
     },
     "execution_count": 188,
     "metadata": {},
     "output_type": "execute_result"
    }
   ],
   "source": [
    "forest_model_classification.predict(np.array(test50).reshape(1,-1))"
   ]
  },
  {
   "cell_type": "code",
   "execution_count": 189,
   "id": "7a918bb7",
   "metadata": {},
   "outputs": [
    {
     "data": {
      "text/plain": [
       "array([[0.1608675, 0.8391325]])"
      ]
     },
     "execution_count": 189,
     "metadata": {},
     "output_type": "execute_result"
    }
   ],
   "source": [
    "prob=forest_model_classification.predict_proba(np.array(test50).reshape(1,-1))\n",
    "prob"
   ]
  },
  {
   "cell_type": "code",
   "execution_count": 190,
   "id": "26f51720",
   "metadata": {},
   "outputs": [
    {
     "data": {
      "text/plain": [
       "0.839132497141635"
      ]
     },
     "execution_count": 190,
     "metadata": {},
     "output_type": "execute_result"
    }
   ],
   "source": [
    "prob[0,1]"
   ]
  },
  {
   "cell_type": "code",
   "execution_count": 204,
   "id": "b1a6e063",
   "metadata": {},
   "outputs": [
    {
     "data": {
      "text/plain": [
       "[21331.0, 2.0, 174.0, 69.0, 150.0, 90.0, 60.0, 1.0, 1.0, 1.0, 0.0, 1.0]"
      ]
     },
     "execution_count": 204,
     "metadata": {},
     "output_type": "execute_result"
    }
   ],
   "source": [
    "test200=X_test.iloc[200].values.tolist()\n",
    "test200"
   ]
  },
  {
   "cell_type": "code",
   "execution_count": 205,
   "id": "ab487277",
   "metadata": {},
   "outputs": [
    {
     "data": {
      "text/plain": [
       "1"
      ]
     },
     "execution_count": 205,
     "metadata": {},
     "output_type": "execute_result"
    }
   ],
   "source": [
    "y_test.iloc[200]"
   ]
  },
  {
   "cell_type": "code",
   "execution_count": 206,
   "id": "7a442cf6",
   "metadata": {},
   "outputs": [
    {
     "data": {
      "text/plain": [
       "array([1], dtype=int64)"
      ]
     },
     "execution_count": 206,
     "metadata": {},
     "output_type": "execute_result"
    }
   ],
   "source": [
    "forest_model_classification.predict(np.array(test200).reshape(1,-1))"
   ]
  },
  {
   "cell_type": "code",
   "execution_count": 207,
   "id": "7a918bb7",
   "metadata": {},
   "outputs": [
    {
     "data": {
      "text/plain": [
       "array([[0.16991294, 0.83008706]])"
      ]
     },
     "execution_count": 207,
     "metadata": {},
     "output_type": "execute_result"
    }
   ],
   "source": [
    "prob=forest_model_classification.predict_proba(np.array(test200).reshape(1,-1))\n",
    "prob"
   ]
  },
  {
   "cell_type": "code",
   "execution_count": 209,
   "id": "26f51720",
   "metadata": {},
   "outputs": [
    {
     "data": {
      "text/plain": [
       "0.83008705583842"
      ]
     },
     "execution_count": 209,
     "metadata": {},
     "output_type": "execute_result"
    }
   ],
   "source": [
    "prob[0,1]"
   ]
  },
  {
   "cell_type": "code",
   "execution_count": 382,
   "id": "63163144",
   "metadata": {},
   "outputs": [],
   "source": [
    "pickle.dump(forest_model_classification,open('RandomModelClassifier.pkl',\"wb\"))"
   ]
  },
  {
   "cell_type": "code",
   "execution_count": null,
   "id": "15231b5f",
   "metadata": {},
   "outputs": [],
   "source": []
  }
 ],
 "metadata": {
  "interpreter": {
   "hash": "8c3d4d9970fc5c09c50d9318a9c7fbf4d0159e4b28833276f5678ee22bded273"
  },
  "kernelspec": {
   "display_name": "Python 3.10.4 64-bit",
   "language": "python",
   "name": "python3"
  },
  "language_info": {
   "codemirror_mode": {
    "name": "ipython",
    "version": 3
   },
   "file_extension": ".py",
   "mimetype": "text/x-python",
   "name": "python",
   "nbconvert_exporter": "python",
   "pygments_lexer": "ipython3",
   "version": "3.10.4"
  }
 },
 "nbformat": 4,
 "nbformat_minor": 5
}
